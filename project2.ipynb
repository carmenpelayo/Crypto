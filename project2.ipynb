{
 "cells": [
  {
   "cell_type": "markdown",
   "metadata": {
    "id": "gUtCzPPdoye3"
   },
   "source": [
    "# DS 453 / 653 Spring 2024: Project 2\n",
    "\n",
    "---\n",
    "\n",
    "_You must follow the Academic Code of Conduct and Collaboration Policy stated in the course syllabus at all times while working on this project._\n",
    "\n",
    "This Jupyter notebook file explains the tasks that you must complete for Project 2. You must submit your final project on [Gradescope](https://www.gradescope.com/courses/497424). You have two opportunities to submit the project:\n",
    "\n",
    "- The first submission date is Thursday, April 25. We will review your work and tell you whether you have passed, or otherwise what is needed to pass the project.\n",
    "- The second submission date is Wednesday, May 1 at 8pm. You must complete the entire project by this time."
   ]
  },
  {
   "cell_type": "markdown",
   "metadata": {
    "id": "jy3t5IASHn2b"
   },
   "source": [
    "## Project Overview\n",
    "\n",
    "The goal of this project is to construct a zero knowledge proof for a data science application. Specifically, we will look at a small-scale dataset and prove its linear regression.\n",
    "\n",
    "(It is highly recommended that you complete Programming Assignment 9 before attempting this project, as we will continue to use the Circom language for zero knowledge proofs that was introduced in PA9 Task 2.)"
   ]
  },
  {
   "cell_type": "markdown",
   "metadata": {
    "id": "sk9O1X_mnWYJ"
   },
   "source": [
    "### Dataset\n",
    "\n",
    "In this project, we will use the famous Iris dataset. You can retrieve this dataset from the `sklearn` package using the code below. A few comments about the dataset and the parts that we will use in this project.\n",
    "\n",
    "- The iris dataset contains 150 rows of data that measures 4 attributes about each iris. In this project, we will only consider the final two attributes: the petal length and petal width of each iris. Additionally, we will only look at a subset of 40 rows of the data that correspond to the iris versicolor species.\n",
    "\n",
    "- The iris dataset in `sklearn` contains measurements in centimeters with one significant digit after the decimal point. Since it happens to be easier to work with integers in a cryptography project, let's multiply the petal widths by 10 (so the unit is now millimeters) and the petal lengths by 100 (so the unit is now multiples of $10^{-4}$ meters).\n",
    "\n",
    "Below, I show a plot the data and its simple linear regression. In this project, let's treat the petal width as the independent variable, and petal length as the dependent variable. It turns out that the best-fit line is $y = 134 + 5x$."
   ]
  },
  {
   "cell_type": "code",
   "execution_count": 1,
   "metadata": {
    "colab": {
     "base_uri": "https://localhost:8080/",
     "height": 536
    },
    "executionInfo": {
     "elapsed": 2050,
     "status": "ok",
     "timestamp": 1713283887330,
     "user": {
      "displayName": "Mayank Varia",
      "userId": "12718185042134558705"
     },
     "user_tz": 240
    },
    "id": "ZXARlhL6nhJ2",
    "outputId": "22c1ad41-15c5-4a3e-aaab-a3f68cbd468e"
   },
   "outputs": [
    {
     "name": "stdout",
     "output_type": "stream",
     "text": [
      "x: [2. 1. 2. 2. 1. 1. 2. 4. 4. 3. 3. 3. 2. 4. 2. 5. 2. 2. 4. 2. 2. 2. 2. 4.\n",
      " 1. 2. 2. 2. 2. 1. 2. 2. 3. 3. 2. 6. 4. 3. 2. 2.]\n",
      "y: [140. 150. 150. 160. 140. 110. 120. 150. 130. 140. 170. 150. 170. 150.\n",
      " 100. 170. 190. 160. 160. 150. 140. 160. 160. 150. 150. 140. 150. 120.\n",
      " 130. 140. 130. 150. 130. 130. 130. 160. 190. 140. 160. 140.]\n"
     ]
    },
    {
     "data": {
      "image/png": "[encoded data removed]",
      "text/plain": [
       "<Figure size 640x480 with 1 Axes>"
      ]
     },
     "metadata": {},
     "output_type": "display_data"
    }
   ],
   "source": [
    "import numpy as np\n",
    "from sklearn.datasets import load_iris\n",
    "import matplotlib.pyplot as plt\n",
    "\n",
    "# create an array containing the iris data\n",
    "iris    = load_iris()\n",
    "dataset = iris.data\n",
    "\n",
    "# restricting to 40 rows of data and only two features\n",
    "x_var = dataset[8:48,3] * 10  # petal width, in millimeters\n",
    "y_var = dataset[8:48,2] * 100 # petal length, in units of 10^-4 meters\n",
    "\n",
    "# print the data\n",
    "print(\"x:\", x_var)\n",
    "print(\"y:\", y_var)\n",
    "\n",
    "# plot of the data\n",
    "plt.scatter(x_var, y_var)\n",
    "plt.xlabel(\"petal width (mm)\")\n",
    "plt.ylabel(\"petal length (10^-4 m)\");\n",
    "\n",
    "# regression line\n",
    "ypoints = np.array([134 + 5*i for i in range(7)])\n",
    "plt.plot(ypoints, linestyle = 'dotted');"
   ]
  },
  {
   "cell_type": "markdown",
   "metadata": {
    "id": "Te9fE2MSrEvU"
   },
   "source": [
    "### Scenario\n",
    "\n",
    "In this project, you will take on the role of the prover Peggy in a zero-knowledge proof system. Let's imagine that you are the only person in the world who has the iris dataset (e.g., you collected all the data yourself but haven't shared it with the world).\n",
    "\n",
    "Your task in this project is to *prove* that your data satisfies the linear regression $y = 134 + 5x$. You want to prove this property to the professor and teaching assistants, but you do not want to reveal the underlying dataset. We instructors will take on the role of the verifier Victor in the zero knowledge proof.\n",
    "\n",
    "The project contains three tasks: calculating the linear regression, creating a commitment to the data, and creating a proof of the correctness of the computation."
   ]
  },
  {
   "cell_type": "markdown",
   "metadata": {
    "id": "VheyW16zLp4m"
   },
   "source": [
    "## Task 1: Calculate linear regression\n",
    "\n",
    "To begin this project, please calculate the single-variable linear regression for yourself (e.g., via the least-squares method). Remember to consider petal width as the independent variable and petal length as the dependent variable. Confirm for yourself that the best-fit line through all the data in `x_var` and `y_var` is $y = 134 + 5x$.\n",
    "\n",
    "This task involves no cryptography. Just refresh your memory of linear regression and check the math for yourself. You might find [Prof. Crovella's course notes](https://mcrovella.github.io/CS132-Geometric-Algorithms/L23LinearModels.html#a-least-squares-problem) handy to remember the underlying matrix and vector algebra required to calculate the coefficients of the regression line.\n",
    "\n",
    "__Your response:__"
   ]
  },
  {
   "cell_type": "code",
   "execution_count": 2,
   "metadata": {
    "id": "I0HX1kiMjL9x"
   },
   "outputs": [
    {
     "name": "stdout",
     "output_type": "stream",
     "text": [
      "                            OLS Regression Results                            \n",
      "==============================================================================\n",
      "Dep. Variable:                      y   R-squared:                       0.091\n",
      "Model:                            OLS   Adj. R-squared:                  0.067\n",
      "Method:                 Least Squares   F-statistic:                     3.812\n",
      "Date:                Thu, 25 Apr 2024   Prob (F-statistic):             0.0583\n",
      "Time:                        18:20:33   Log-Likelihood:                -171.59\n",
      "No. Observations:                  40   AIC:                             347.2\n",
      "Df Residuals:                      38   BIC:                             350.5\n",
      "Df Model:                           1                                         \n",
      "Covariance Type:            nonrobust                                         \n",
      "==============================================================================\n",
      "                 coef    std err          t      P>|t|      [0.025      0.975]\n",
      "------------------------------------------------------------------------------\n",
      "const        134.0000      7.013     19.107      0.000     119.803     148.197\n",
      "x1             5.0000      2.561      1.952      0.058      -0.184      10.184\n",
      "==============================================================================\n",
      "Omnibus:                        0.967   Durbin-Watson:                   1.677\n",
      "Prob(Omnibus):                  0.617   Jarque-Bera (JB):                0.275\n",
      "Skew:                           0.097   Prob(JB):                        0.871\n",
      "Kurtosis:                       3.357   Cond. No.                         7.47\n",
      "==============================================================================\n",
      "\n",
      "Notes:\n",
      "[1] Standard Errors assume that the covariance matrix of the errors is correctly specified.\n"
     ]
    }
   ],
   "source": [
    "import statsmodels.api as sm\n",
    "\n",
    "# Ordinary Least Squares\n",
    "x_var_const = sm.add_constant(x_var) #statsmodels.OLS does not use a constant by default\n",
    "model = sm.OLS(y_var, x_var_const)\n",
    "results = model.fit()\n",
    "print(results.summary())"
   ]
  },
  {
   "cell_type": "markdown",
   "metadata": {
    "id": "b_HuvMYNt9PL"
   },
   "source": [
    "## Task 2: Create a commitment to the iris dataset\n",
    "\n",
    "Next, create a cryptographic commitment to the iris data. Remember that a commitment is a digital equivalent to putting the data in an envelope: the verifier cannot see the data, and the prover cannot change it.\n",
    "\n",
    "One way to create a cryptographic commitment is to use a hash function modeled as a random oracle. The following construction is a valid commitment, where `m` is the message to be committed and `r` is a secret random string.\n",
    "\n",
    "$$\n",
    "\\begin{align*}\n",
    "\\operatorname{Commit}(m, r) &= H(m, r) \\\\\n",
    "\\operatorname{Open}(c, m, r) &= \\text{reveal } m \\text{ and } r \\\\\n",
    "\\end{align*}\n",
    "$$\n",
    "\n",
    "In this task, you must create a cryptographic commitment of the two columns of the iris dataset. You can use the code provided in Programming Assignment 9, Task 2 to help if you wish.\n",
    "\n",
    "__Your response:__"
   ]
  },
  {
   "cell_type": "code",
   "execution_count": 3,
   "metadata": {
    "scrolled": true
   },
   "outputs": [
    {
     "data": {
      "text/plain": [
       "'f027bf936497070f368001baf02790d40b5b73359ccf4e77a3f3fda4199f2018'"
      ]
     },
     "execution_count": 3,
     "metadata": {},
     "output_type": "execute_result"
    }
   ],
   "source": [
    "import os\n",
    "from hashlib import sha256\n",
    "\n",
    "# 1) Horizontal stack (hstack) of x_var and y_var into the same array\n",
    "stack = np.hstack((x_var.reshape([-1,1]), y_var.reshape([-1,1]))) #reshaping to [-1,1] to have variables as vertical array vectors\n",
    "\n",
    "# 2) Convert the resulting stack to bytes\n",
    "stack_bytes = bytes(stack)\n",
    "\n",
    "# 3) Get a random key (using os.random) and join it to the stack_bytes\n",
    "key = os.urandom(16)\n",
    "stack_key = stack_bytes + key\n",
    "\n",
    "# 4) Take the SHA256 hash of that\n",
    "commit = sha256(stack_key).hexdigest()\n",
    "commit"
   ]
  },
  {
   "cell_type": "markdown",
   "metadata": {
    "id": "Ubu0vxcEu1n5"
   },
   "source": [
    "## Task 3: Construct a ZK proof\n",
    "\n",
    "Finally, create a zero knowledge proof in the language `Circom` to prove to the instructors that the linear regression curve is $y = 134 + 5x$ for the iris dataset that you committed to in Task 2.\n",
    "\n",
    "In more detail: recall that a zero knowledge proof contains a public statement `x` and a private witness `w`. In this case:\n",
    "- The public statement contains the linear regression from Task 1 and the commitment from Task 2. The idea of this project is that you want to share that with the instructors. Additionally, let's pretend that the commitment was checked by an auditor, peer-reviewer, or regulator; this third party has confirmed and attested to the fact that your dataset is properly produced, and us instructors believe them even though we have not seen the data ourselves.\n",
    "- The private witness is the underlying iris data itself. Only you know that; we instructors haven't seen it.\n",
    "\n",
    "So: you must create a ZK proof in `Circom` to show two properties about your secret iris dataset: that it is the message inside of the cryptographic commitment, and that its linear regression is as claimed.\n",
    "\n",
    "_Write your Circom code below. We should be able to take this code and execute it ourselves on https://zkrepl.dev/. Also, make sure that your code is properly documented so we can understand what you have done. You may find it helpful to use the [Circom documentation](https://docs.circom.io/) as you write the proof Additionally, see below for some code to perform matrix multiplication in Circom._\n",
    "\n",
    "As a hint: calculating the linear regression requires calculating the inverse of a matrix. I highly recommend that you do _not_ try to perform matrix inversion yourself in `Circom`! Instead, remember that the goal of ZK is to __verify__ a calculation rather than performing the calculation yourself. As written in Prof. Crovella's course notes, it suffices to show that the correct vector of coefficients \"$\\bf{\\beta}$ is a solution of the normal equations $X^\\top X \\bf{\\beta} = X^\\top \\bf{y}$.\"\n",
    "\n",
    "__Your response:__"
   ]
  },
  {
   "cell_type": "code",
   "execution_count": null,
   "metadata": {},
   "outputs": [],
   "source": [
    "pragma circom 2.1.4;\n",
    "\n",
    "include \"circomlib/poseidon.circom\";\n",
    "\n",
    "// Helper function 1: Returns 1 if the dot product between 2 vectors a[N] and b[N] == dot_product\n",
    "template IsDotProductEq(N) {\n",
    "    signal input a[N];\n",
    "    signal input b[N];\n",
    "    signal input dot_product;\n",
    "    signal output isEqual;\n",
    "\n",
    "    // working vectors:\n",
    "    signal products[N];\n",
    "    signal cum_sum[N];\n",
    "\n",
    "    component isEq = IsEqual();\n",
    "    products[0] <== a[0] * b[0];\n",
    "    cum_sum[0] <== products[0];\n",
    "\n",
    "    for(var i = 1; i < N; i++) {\n",
    "        products[i] <== a[i] * b[i];\n",
    "        cum_sum[i] <== cum_sum[i - 1] + products[i];\n",
    "    }\n",
    "\n",
    "    isEq.in[0] <== dot_product;\n",
    "    isEq.in[1] <== cum_sum[N - 1];\n",
    "    isEqual <== isEq.out;\n",
    "}\n",
    "\n",
    "// Helper function 2: multiplies matrices mat1[M,N] by mat2[N,P] to output mat3[M,P]\n",
    "template MatrixMultiplication(M, N, P) {\n",
    "    signal input mat1[M][N]; // First input matrix\n",
    "    signal input mat2[N][P]; // Second input matrix\n",
    "    signal output mat3[M][P]; // Resulting product matrix\n",
    "\n",
    "    for (var i = 0; i < M; i++) {\n",
    "        for (var j = 0; j < P; j++) {\n",
    "            var sum = 0;\n",
    "            for (var k = 0; k < N; k++) {\n",
    "                sum += mat1[i][k] * mat2[k][j];\n",
    "            }\n",
    "            mat3[i][j] <== sum; \n",
    "        }\n",
    "    }\n",
    "}\n",
    "\n",
    "// Helper function 3: transposes matrix mat[M,N] (so the output is out[N,M])\n",
    "template Transpose(M, N) {\n",
    "    signal input mat[M][N]; //Input matrix\n",
    "    signal output out[N][M]; //Output (tranposed) matrix\n",
    "\n",
    "    for (var i = 0; i < M; i++) {\n",
    "        for (var j = 0; i < N; j++) {\n",
    "            out[j][i] <== mat[i][j];\n",
    "        }\n",
    "    }\n",
    "}\n",
    "\n",
    "// Helper function 4: checks if two inputs are equal, returning a boolean output.\n",
    "template IsEqual() {\n",
    "    signal input in[2]; // The input is a 2-element array \n",
    "    signal output out; // Boolean output indicating if they're equal \n",
    "    out <== in[0] == in[1]; // If first element equals the second, the output is 1 (true), otherwise it is 0 (false)\n",
    "}\n",
    "\n",
    "// Main function\n",
    "template LinearRegressionVerifier() {\n",
    "    // Inputs\n",
    "    signal input x[40]; // Initial vector 40 x 1\n",
    "    signal input y[40]; // Initial vector 40 x 1\n",
    "    signal input beta[2]; // Coefficients\n",
    "    signal output assertion;\n",
    "\n",
    "    // Create matrix X (40 x 2) from x with a constant term of 1 (first column of all 1's)\n",
    "    signal X[40][2];\n",
    "    for (var i = 0; i < 40; i++) {\n",
    "        X[i][0] <== 1; // Add first column of all 1's to X (intercept)\n",
    "        X[i][1] <== x[i]; // Second column is just the values of the input vector x\n",
    "    }\n",
    "\n",
    "    // Transpose X (40 x 2) to Xt (2 x 40)\n",
    "    signal Xt[2][40];\n",
    "    component mat_t = Transpose(40, 2); //Use helper function Transpose\n",
    "    for(var i = 0; i < 40; i++){ // Rows\n",
    "        for(var j = 0; j < 2; j++){\n",
    "            mat_t.mat[i][j] <== X[i][j]; // Input to Transpose: matrix X\n",
    "        }\n",
    "    }\n",
    "    for(var i = 0; i < 2; i++){ // Columns\n",
    "        for(var j = 0; j < 40; j++){\n",
    "            Xt[i][j] <== mat_t.out[i][j];\n",
    "        }\n",
    "    } // Output is Xt[2,40]\n",
    "\n",
    "    // Compute XtX\n",
    "    component XtX = MatrixMultiplication(2, 40, 2); //Use helper function MatrixMultiplication to get XtX\n",
    "    for (var i = 0; i < 2; i++){\n",
    "        for (var j = 0; j < 40; j++){ \n",
    "            XtX.mat1[i][j] <== Xt[i][j]; // First input to the MatrixMultiplication of XtX: Xt[2,40]\n",
    "            XtX.mat2[j][i] <== X[j][i]; // Second input to the MatrixMultiplication of XtX: X[40,2]\n",
    "        }\n",
    "    } // Output is XtX[2,2]\n",
    "\n",
    "    // Compute XtY \n",
    "    component XtY = MatrixMultiplication(2, 40, 1); //Use helper function MatrixMultiplication to get XtY\n",
    "    for (var i = 0; i < 2; i++){\n",
    "        for (var j = 0; j < 40; j++){\n",
    "            XtY.mat1[i][j] <== Xt[i][j]; // First input to the MatrixMultiplication of XtX: Xt[2,40]\n",
    "        }\n",
    "    }\n",
    "    for (var j = 0; j < 40; j++){\n",
    "        XtY.mat2[j][0] <== y[j]; // Second input to the MatrixMultiplication of XtX: y[40,1]\n",
    "    } // Output is XtY[2,1]\n",
    "\n",
    "    // Compute XtX * beta \n",
    "    component mmBeta = MatrixMultiplication(2, 2, 1); //Use helper function MatrixMultiplication to get XtX * beta \n",
    "    mmBeta.mat1 <== XtX.mat3; // First input to MatrixMultiplication: XtX[2,2]\n",
    "    mmBeta.mat2 <== beta; // Second input to MatrixMultiplication: beta[2,1]\n",
    "\n",
    "    // Final verification: assert that XtX * beta == XtY\n",
    "    component isEq = IsEqual(); //Use helper function IsEqual to get a boolean (1 if true, 0 if false)\n",
    "    isEq.in[0] <== mmBeta.mat3[0]; // First input to IsEqual: mmBeta (or XtX * beta, left side of equality)\n",
    "    isEq.in[1] <== XtY.mat3[0]; // Second input to IsEqual: XtY (right side of equality)\n",
    "\n",
    "    assertion <== isEq.out; // Final output (verification)\n",
    "}\n",
    "\n",
    "component main { public [ beta ] } = LinearRegressionVerifier();\n",
    "\n",
    "/* \n",
    "INPUT = {\n",
    "    \"x\": [\"2\", \"1\", \"2\", \"2\", \"1\", \"1\", \"2\", \"4\", \"4\", \"3\", \"3\", \"3\", \"2\", \"4\", \"2\", \"5\", \"2\", \"2\", \"4\", \"2\", \"2\", \"2\", \"2\", \"4\", \"1\", \"2\", \"2\", \"2\", \"2\", \"1\", \"2\", \"2\", \"3\", \"3\", \"2\", \"6\", \"4\", \"3\", \"2\", \"2\"],\n",
    "    \"y\": [\"140\", \"150\", \"150\", \"160\", \"140\", \"110\", \"120\", \"150\", \"130\", \"140\", \"170\", \"150\", \"170\", \"150\", \"100\", \"170\", \"190\", \"160\", \"160\", \"150\", \"140\", \"160\", \"160\", \"150\", \"150\", \"140\", \"150\", \"120\", \"130\", \"140\", \"130\", \"150\", \"130\", \"130\", \"130\", \"160\", \"190\", \"140\", \"160\", \"140\"],\n",
    "    \"beta\": [\"134\", \"5\"]\n",
    "}\n",
    "*/"
   ]
  },
  {
   "cell_type": "markdown",
   "metadata": {
    "id": "uyTRLw9qZ9K2"
   },
   "source": [
    "## Documenting collaborators, sources, and AI tools\n",
    "\n",
    "In accordance with the collaboration policy, use the space below to report if you used any resources to complete this homework assignment, aside from the lecture notes and the course textbooks/videos. Specifically, please report:\n",
    "\n",
    "1. Names of all classmates you worked with, and a short description of the work that you performed together.\n",
    "2. All written materials that you used, such as books or websites (besides the lecture notes or textbooks). Please include links to any web-based resources, or citations to any physical works.\n",
    "3. All code that you used from other sources. In particular, if you used an AI tool, then you must include the entire exchange with the AI tool, as per the [CDS Generative AI Assistance Policy](https://www.bu.edu/cds-faculty/culture-community/gaia-policy/).\n",
    "\n",
    "Remember that if we discover any undocumented collaborators, sources, or AI tools then this is grounds for a Not Passed grade on the project without the ability to resubmit, and possible referral to BU's Academic Conduct Committee (as described in the syllabus). It is in your own interest to document all collaborators, sources, and tools used!"
   ]
  },
  {
   "cell_type": "markdown",
   "metadata": {
    "id": "r8_ybBypaBeV"
   },
   "source": [
    "__Your response:__\n",
    "\n",
    "1. Attended TA OH and got help from Shreyas.\n",
    "\n",
    "2. Attended Professor OH and got help from Prof. Varia.\n",
    "\n",
    "3. Farid helped clarify some syntax issues with Circom, and Cindy helped with some helper functions."
   ]
  },
  {
   "cell_type": "markdown",
   "metadata": {
    "id": "uEO5Va4yaGWF"
   },
   "source": [
    "When you have completed the project, please submit this .ipynb file to Gradescope."
   ]
  },
  {
   "cell_type": "markdown",
   "metadata": {
    "id": "eTj9NHsBpw9t"
   },
   "source": [
    "## Appendix: Example of matrix multiplication in Circom\n",
    "\n",
    "In Task 3, you will need to write Circom code to check for the correct outcome for a matrix product. I reproduce below some Circom code from [GitHub user drgorillamd](https://github.com/drgorillamd/circom-halo2/blob/main/matrixProduct/circom/matrixProduct.circom) that can check whether the prover knows two secret matrices $A$ and $B$ that can multiply to produce a public matrix $C$. You can run this code for yourself at https://zkrepl.dev and confirm that it works.\n",
    "\n",
    "Note that this code is *not* exactly what you will need for Task 3; in particular, in this project all matrices are meant to be secret except for the regression coefficients 134 and 5. Still though, you might find this code to be a useful starting point that you can adapt to fit the project."
   ]
  },
  {
   "cell_type": "code",
   "execution_count": null,
   "metadata": {
    "id": "MoREqwx_p3dJ"
   },
   "outputs": [],
   "source": [
    "pragma circom 2.1.5;\n",
    "\n",
    "include \"../../node_modules/circomlib/circuits/comparators.circom\";\n",
    "\n",
    "// takes 2 private signals in (a and b) and a public one (c).\n",
    "// checks if the matrix a[M][N] . b[N][P] == c[M][P]\n",
    "// this is pretty useless as anyone can find A and B satisfying this, but it\n",
    "// was funny to code tho.\n",
    "// https://www.reddit.com/r/cryptography/s/kGMmhprA8N\n",
    "template CheckMatrixProduct(M,N,P) {\n",
    "    // A . B = C with dim(A) = MxN, dim(B)=NxP and dim(C)=NxN\n",
    "    signal input a[M][N]; // private\n",
    "    signal input b[N][P]; // private\n",
    "    signal input c[M][P]; // public\n",
    "\n",
    "    // compiler check: valid matrices (NOT a constrain)\n",
    "    assert(M * N * P != 0);\n",
    "\n",
    "    // 1 if the dot product a[x][i] . b[i][y] == c[x][y]\n",
    "    component isDotProd[M][P];\n",
    "\n",
    "    // for row in c\n",
    "    for(var i = 0; i < M; i++) {\n",
    "        // for col in c\n",
    "        for(var j = 0; j < P; j++) {\n",
    "\n",
    "            isDotProd[i][j] = IsDotProductEq(N);\n",
    "\n",
    "            // Circom 2.1: pass a whole vector and this is so cool\n",
    "            isDotProd[i][j].a <== a[i];\n",
    "\n",
    "            // transposed\n",
    "            for(var k = 0; k < N; k++) {\n",
    "                isDotProd[i][j].b[k] <== b[k][j];\n",
    "            }\n",
    "\n",
    "            // the result in c\n",
    "            isDotProd[i][j].dot_product <== c[i][j];\n",
    "\n",
    "            isDotProd[i][j].isEqual === 1;\n",
    "        }\n",
    "    }\n",
    "}\n",
    "\n",
    "// Returns 1 if the dot product between 2 vectors a[N] and b[N] == dot_product\n",
    "template IsDotProductEq(N) {\n",
    "    signal input a[N];\n",
    "    signal input b[N];\n",
    "    signal input dot_product;\n",
    "\n",
    "    signal output isEqual;\n",
    "\n",
    "    // working vectors:\n",
    "    // product of each value in a and b\n",
    "    signal products[N];\n",
    "\n",
    "    // cumulative sums of the products\n",
    "    signal cum_sum[N];\n",
    "\n",
    "    component isEq = IsEqual();\n",
    "\n",
    "    // hold the first (rest iterate on i-1, avoid falling out of bound)\n",
    "    products[0] <== a[0] * b[0];\n",
    "    cum_sum[0] <== products[0];\n",
    "\n",
    "    // compute a[i] * b[i] then add it to the cumulative sum\n",
    "    for(var i = 1; i < N; i++) {\n",
    "        products[i] <== a[i] * b[i];\n",
    "        cum_sum[i] <== cum_sum[i - 1] + products[i];\n",
    "    }\n",
    "\n",
    "    // the last value of cum_sum now holds the dot product, just check for eq and return it\n",
    "    isEq.in[0] <== dot_product;\n",
    "    isEq.in[1] <== cum_sum[N - 1];\n",
    "    isEqual <== isEq.out;\n",
    "}\n",
    "\n",
    "// Checks the matrix product, where c is a public matrix and a, b are hidden matrices\n",
    "component main { public [ c ] } = CheckMatrixProduct(2, 3, 2);\n",
    "\n",
    "/* INPUT = {\n",
    "    \"a\": [[\"1\", \"2\", \"3\"],\n",
    "          [\"4\", \"5\", \"6\"]],\n",
    "    \"b\": [[\"1\", \"2\"],\n",
    "          [\"6\", \"7\"],\n",
    "          [\"11\", \"12\"]],\n",
    "    \"c\": [[\"46\", \"52\"],\n",
    "          [\"100\", \"115\"]]\n",
    "} */"
   ]
  }
 ],
 "metadata": {
  "colab": {
   "provenance": []
  },
  "kernelspec": {
   "display_name": "Python 3 (ipykernel)",
   "language": "python",
   "name": "python3"
  },
  "language_info": {
   "codemirror_mode": {
    "name": "ipython",
    "version": 3
   },
   "file_extension": ".py",
   "mimetype": "text/x-python",
   "name": "python",
   "nbconvert_exporter": "python",
   "pygments_lexer": "ipython3",
   "version": "3.12.1"
  }
 },
 "nbformat": 4,
 "nbformat_minor": 4
}
