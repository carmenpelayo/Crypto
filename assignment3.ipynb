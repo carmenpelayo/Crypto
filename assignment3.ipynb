{
 "cells": [
  {
   "cell_type": "code",
   "execution_count": 1,
   "metadata": {
    "deletable": false,
    "editable": false
   },
   "outputs": [],
   "source": [
    "# Initialize Otter\n",
    "import otter\n",
    "grader = otter.Notebook(\"assignment3.ipynb\")"
   ]
  },
  {
   "cell_type": "markdown",
   "metadata": {},
   "source": [
    "# DS 453 / 653: Programming Assignment 3\n",
    "\n",
    "**Due date**: Thursday, Feburary 15 at 8pm on [Gradescope](https://www.gradescope.com/courses/710247). Note that Programming Assignment 4 will be due at the same time, so plan your work accordingly.\n",
    "\n",
    "_You must follow the Academic Code of Conduct and Collaboration Policy stated in the course syllabus at all times while working on this assignment._\n",
    "\n",
    "This assignment contains 3 questions worth a total of 5 points. You must receive at least 4 out of the available 5 points to pass the assignment."
   ]
  },
  {
   "cell_type": "markdown",
   "metadata": {},
   "source": [
    "## Assignment Overview\n",
    "\n",
    "The goal of this assignment is to learn about digital signatures, hash functions, and the structure of a blockchain.\n",
    "\n",
    "To do so, we introduce a toy blockchain that contains many of the same concepts as used within Bitcoin, but with some components removed (like the mining rewards, transaction fees, scripting language, and adjustments to the difficulty level).\n",
    "\n",
    "### Python classes\n",
    "Our toy blockchain is written as Python code, which we provide below. We separate the blockchain into four classes:\n",
    "- The `TransactionPayload` class holds the relevant information for a single payment: the sender and receiver (identified by their public keys) and the amount of money being transferred.\n",
    "- The `Transaction` class contains the payload together with a digital signature made by the sender.\n",
    "- The `Block` class contains the block \"height\" (which is just a 0-indexed counter), a set of new transactions, and a pointer to the previous block in the chain. Additionally, the block contains a `nonce` that can be chosen arbitrarily by the block's miner in order to satisfy the difficulty rule.\n",
    "\n",
    "Finally, the `blockchain` object is a list of blocks.\n",
    "\n",
    "Throughout this assignment, the difficulty rule is that:\n",
    "> _The hash of a valid block must begin with 8 bits (one byte) of all 0s_.\n",
    "\n",
    "To instantiate these Python classes, execute the code blocks below."
   ]
  },
  {
   "cell_type": "code",
   "execution_count": 2,
   "metadata": {},
   "outputs": [
    {
     "name": "stdout",
     "output_type": "stream",
     "text": [
      "zsh:fg:1: no job control in this shell.\n"
     ]
    }
   ],
   "source": [
    "# Execute this block only if you are using Google Colab.\n",
    "# If you are running the notebook file locally, install pycryptodome yourself but do NOT install the package pycrypto.\n",
    "\n",
    "!%pip install pycryptodome"
   ]
  },
  {
   "cell_type": "code",
   "execution_count": 3,
   "metadata": {},
   "outputs": [],
   "source": [
    "## Execute, but DO NOT MODIFY this code block. ##\n",
    "## It contains a Python class corresponding to a toy blockchain.\n",
    "## Please read the code to understand how the toy blockchain works.\n",
    "\n",
    "import json\n",
    "from Crypto.Hash import SHA256\n",
    "from Crypto.PublicKey import ECC\n",
    "from Crypto.Signature import DSS\n",
    "from binascii import hexlify, unhexlify\n",
    "\n",
    "class Transaction():\n",
    "  def __init__(self, transaction_payload, signature):\n",
    "    self.transaction_payload = transaction_payload\n",
    "    self.signature = signature\n",
    "\n",
    "  def json_encode(self):\n",
    "    transaction_json = {\"transaction\": json.loads(self.transaction_payload.json_encode()), \"signature\":self.signature}\n",
    "    return json.dumps(transaction_json)\n",
    "\n",
    "class TransactionPayload():\n",
    "  def __init__(self, sender_public_key, receiver_public_key, amount):\n",
    "    self.sender_public_key = sender_public_key\n",
    "    self.receiver_public_key = receiver_public_key\n",
    "    self.amount = amount\n",
    "\n",
    "  def json_encode(self):\n",
    "    return json.dumps(self.__dict__, sort_keys=True)\n",
    "\n",
    "  def encode(self):\n",
    "    # encodes the transaction as bytes\n",
    "    return self.json_encode().encode('ascii')\n",
    "\n",
    "  def hash(self):\n",
    "    # returns the hash of the transaction as bytes\n",
    "    return SHA256.new(self.encode())\n",
    "\n",
    "class Block():\n",
    "  def __init__(self, height, transactions, previous_hash, nonce=0):\n",
    "    self.height = height\n",
    "    self.transactions = transactions\n",
    "    self.previous_hash = previous_hash\n",
    "    self.nonce = nonce\n",
    "\n",
    "  def json_encode(self):\n",
    "    json_encoding = {'height': self.height,\n",
    "            'transactions': [json.loads(transaction.json_encode()) for transaction in self.transactions],\n",
    "            'previous_hash': self.previous_hash, # in hexstring\n",
    "            'nonce': self.nonce\n",
    "    }\n",
    "    return json.dumps(json_encoding)\n",
    "\n",
    "  def encode(self):\n",
    "    return self.json_encode().encode('ascii')\n",
    "\n",
    "  def hash(self):\n",
    "    return SHA256.new(self.encode()).hexdigest()\n"
   ]
  },
  {
   "cell_type": "markdown",
   "metadata": {},
   "source": [
    "### Participants in the toy blockchain\n",
    "\n",
    "There are five participants who use this toy blockchain. We label these participants as players A, B, C, D, and E. We will only look at a few blocks of this blockchain, which operate as follows:\n",
    "\n",
    "- Before the start of the blockchain, we assume that players A and C start with 1 coin. The other players have no money at the start.\n",
    "- The first block contains two transactions: A pays 1 coin to B, and C pays 1 coin to D.\n",
    "- The second block contains a single transaction: D pays 1 coin to A\n",
    "\n",
    "After these two blocks, players A and B should have 1 coin each and everyone else should have nothing.\n",
    "\n",
    "Execute the Python code below to instantiate this blockchain."
   ]
  },
  {
   "cell_type": "code",
   "execution_count": 4,
   "metadata": {},
   "outputs": [
    {
     "name": "stdout",
     "output_type": "stream",
     "text": [
      "{\"height\": 0, \"transactions\": [{\"transaction\": {\"amount\": 1, \"receiver_public_key\": \"04be4a2555cc8ed29989eeddde3d8e4d41458d02dce047aac2e6af2d58688c5beae7163eb157d1fd3c3d282abab7172b0f0d63274ebe721d31c5d72a83741df170\", \"sender_public_key\": \"044d4385fe08e0eb94c524bdd3682c9c5ae358f52402df02418d0ba6cf6889289a27bd56a666df7dc595c98da1f22958009ae17c52fd290185d2e2bf11140a0a5e\"}, \"signature\": \"edd6bb60e8486f9747f911a6d7340c275d5a417c3823952715a18a64d3577325413cf544e8f48e6c30a312649200c57b72d7eaa4721abf376dbd0dc799db6c3a\"}, {\"transaction\": {\"amount\": 1, \"receiver_public_key\": \"04abc5bd2786ea5144122ccf43b89a557e1d36e2773c2b8986d9819a22c2e6540b3d5da692504ccc29fbf774435312afdda2a360d5160329cb326f6d47db29f50b\", \"sender_public_key\": \"04a3fc575afc4ad2ca2cbeed50b52fedf049d317b790aa33e7f8182aec028453082d4c4ffd4c99c7e6d11c134e81020c57ca0fbf0bf3406bf4457dc72d8c994a65\"}, \"signature\": \"33bcaaa920207125ec72ea7f9e5fbddb993479dbe7122c6dfcf0a96f2e646dd90ff73c90c784f473480e32fd2fb68735af86458bc0434e5958f025cc9e0ddd59\"}], \"previous_hash\": \"0000000000000000000000000000000000000000000000000000000000000000\", \"nonce\": 7}\n",
      "{\"height\": 1, \"transactions\": [{\"transaction\": {\"amount\": 1, \"receiver_public_key\": \"044d4385fe08e0eb94c524bdd3682c9c5ae358f52402df02418d0ba6cf6889289a27bd56a666df7dc595c98da1f22958009ae17c52fd290185d2e2bf11140a0a5e\", \"sender_public_key\": \"04abc5bd2786ea5144122ccf43b89a557e1d36e2773c2b8986d9819a22c2e6540b3d5da692504ccc29fbf774435312afdda2a360d5160329cb326f6d47db29f50b\"}, \"signature\": \"886de552f43010b2a848f660b066102e680a4c6b763032c98c53e6f86c5d5638a9dee5e41f311e4956cd416a51850afa28bc4b9575cbf9cbf1940fae84b1d166\"}], \"previous_hash\": \"00fd71161f8b5244d0641d83ccaedc2f0b7bed9d3f0c625fc817218660c4369a\", \"nonce\": 143}\n"
     ]
    }
   ],
   "source": [
    "## Execute, but DO NOT MODIFY this code block. ##\n",
    "## This code creates a concrete blockchain containing the transactions and blocks described above.\n",
    "## It also contains all 5 players' public keys, and the corresponding secret key *only* for Player A.\n",
    "\n",
    "# Player A's secret key\n",
    "secret_key = ECC.generate(curve='P-256', randfunc=(lambda x: '0'.encode('ascii') * x))\n",
    "# Public keys for all five players\n",
    "# Player A's public key is located at index 0, player B's public key is at index 1, and so on\n",
    "public_keys = ['044d4385fe08e0eb94c524bdd3682c9c5ae358f52402df02418d0ba6cf6889289a27bd56a666df7dc595c98da1f22958009ae17c52fd290185d2e2bf11140a0a5e', '04be4a2555cc8ed29989eeddde3d8e4d41458d02dce047aac2e6af2d58688c5beae7163eb157d1fd3c3d282abab7172b0f0d63274ebe721d31c5d72a83741df170', '04a3fc575afc4ad2ca2cbeed50b52fedf049d317b790aa33e7f8182aec028453082d4c4ffd4c99c7e6d11c134e81020c57ca0fbf0bf3406bf4457dc72d8c994a65', '04abc5bd2786ea5144122ccf43b89a557e1d36e2773c2b8986d9819a22c2e6540b3d5da692504ccc29fbf774435312afdda2a360d5160329cb326f6d47db29f50b', '046a921bed68e07e66f38a5137b3784372cfd4507e6451e1dfe3760f08649750e7891cd30339b730c0280738c60233d3c99eb78454340ff363cafbf1e6f0cfce5e']\n",
    "\n",
    "blockchain = []\n",
    "\n",
    "# Remember: we assume that A and C magically begin the blockchain with 1 coin.\n",
    "# This is because our toy blockchain doesn't have mining rewards,\n",
    "# so we make this assumption to start the chain with some money.\n",
    "\n",
    "# Here are the transactions in each block\n",
    "def gen_block_0():\n",
    "  # This block sends 1 coin from public key A to public key B\n",
    "  t1 = TransactionPayload(public_keys[0], public_keys[1], 1)\n",
    "  # In this toy blockchain, all signatures are stored in hex format and have a type of string\n",
    "  t1_signature = \"edd6bb60e8486f9747f911a6d7340c275d5a417c3823952715a18a64d3577325413cf544e8f48e6c30a312649200c57b72d7eaa4721abf376dbd0dc799db6c3a\"\n",
    "  # A transaction includes the payload and its corresponding signature\n",
    "  t1_signed = Transaction(t1, t1_signature)\n",
    "\n",
    "  # C -> D\n",
    "  t2 = TransactionPayload(public_keys[2], public_keys[3], 1)\n",
    "  t2_signature = \"33bcaaa920207125ec72ea7f9e5fbddb993479dbe7122c6dfcf0a96f2e646dd90ff73c90c784f473480e32fd2fb68735af86458bc0434e5958f025cc9e0ddd59\"\n",
    "  t2_signed = Transaction(t2, t2_signature)\n",
    "\n",
    "  # block number 0\n",
    "  previous_hash = \"0000000000000000000000000000000000000000000000000000000000000000\"\n",
    "  b0 = Block(0, [t1_signed, t2_signed], previous_hash, 7)\n",
    "  return b0\n",
    "\n",
    "def gen_block_1():\n",
    "  # D -> A\n",
    "  t3 = TransactionPayload(public_keys[3], public_keys[0], 1)\n",
    "  t3_signature = \"886de552f43010b2a848f660b066102e680a4c6b763032c98c53e6f86c5d5638a9dee5e41f311e4956cd416a51850afa28bc4b9575cbf9cbf1940fae84b1d166\"\n",
    "  t3_signed = Transaction(t3, t3_signature)\n",
    "\n",
    "  # block number 1\n",
    "  previous_hash = \"00fd71161f8b5244d0641d83ccaedc2f0b7bed9d3f0c625fc817218660c4369a\"\n",
    "  b1 = Block(1, [t3_signed], previous_hash, 143)\n",
    "  return b1\n",
    "\n",
    "def pretty_print(blockchain):\n",
    "  [print(block.json_encode()) for block in blockchain]\n",
    "\n",
    "blockchain = [gen_block_0(), gen_block_1()]\n",
    "pretty_print(blockchain)\n"
   ]
  },
  {
   "cell_type": "markdown",
   "metadata": {},
   "source": [
    "This `blockchain` turns out to be valid because:\n",
    "1. The signature in every transaction is correct,\n",
    "2. Every block has a `nonce` that is chosen to satisfy the difficulty rule,\n",
    "3. Every block points to the previous block (and by convention, the initial block -- called the \"genesis\" block -- has a hash of all-0s), and\n",
    "4. Everyone has enough money in their account at the moment they post a transaction.\n",
    "\n",
    "If we break any of the four rules, then the blockchain becomes invalid. Here are some examples of invalid blockchains."
   ]
  },
  {
   "cell_type": "markdown",
   "metadata": {},
   "source": [
    "### Your Objective\n",
    "\n",
    "Your objective in this assignment is to determine whether any given blockchain is valid according to the 4 rules stated above. If so, you must find the balance held by all five players at the end of the blockchain.\n",
    "\n",
    "We decompose this task into three questions."
   ]
  },
  {
   "cell_type": "markdown",
   "metadata": {
    "deletable": false,
    "editable": false
   },
   "source": [
    "## Assignment Questions"
   ]
  },
  {
   "cell_type": "markdown",
   "metadata": {
    "deletable": false,
    "editable": false
   },
   "source": [
    "**Question 1: Transaction validity.** Write the method `isValidTransaction` to verify the correctness of a `transaction` that is provided as input. Your function should return `True` if the transaction is valid and `False` otherwise.\n",
    "\n",
    "A few reminders to help you out:\n",
    "\n",
    "- Of the four properties listed above that determine whether a blockchain is valid, only the first property can be checked for an individual transaction. (The other three properties depend on the other contents in the block, or in other blocks of the blockchain, and we will address them in the next two questions.)\n",
    "\n",
    "- In this toy blockchain, all signatures were created using ECDSA with a NIST-approved curve called `P-256`, and the message that is being signed is the hash of the transaction payload.\n",
    "\n",
    "_Points:_ 2"
   ]
  },
  {
   "cell_type": "code",
   "execution_count": 5,
   "metadata": {
    "tags": []
   },
   "outputs": [],
   "source": [
    "def isValidTransaction(transaction: Transaction) -> bool:\n",
    "    \"\"\"Goal: Check that the transaction provided is properly signed.\"\"\"\n",
    "    \n",
    "    # Step 1: Check the message being signed is the proper SHA-256 hash of the transaction payload.\n",
    "    valid_message = transaction.transaction_payload.hash()\n",
    "    valid_signature = unhexlify(transaction.signature) \n",
    "\n",
    "    # Step 2: Check the signature used was properly created using ECDSA with a NIST-approved P-256 curve.\n",
    "    sender_pk = ECC.import_key(unhexlify(transaction.transaction_payload.sender_public_key), curve_name=\"P-256\")\n",
    "    verifier = DSS.new(sender_pk, 'fips-186-3')\n",
    "\n",
    "    # Step 3\n",
    "    try:\n",
    "        verifier.verify(valid_message, valid_signature)\n",
    "        return True\n",
    "    except ValueError:\n",
    "        return False"
   ]
  },
  {
   "cell_type": "markdown",
   "metadata": {},
   "source": [
    "- ECC = generates a secret key from a public key\n",
    "- DSS = validates that 2 different messages come from the same person"
   ]
  },
  {
   "cell_type": "code",
   "execution_count": 6,
   "metadata": {
    "deletable": false,
    "editable": false,
    "scrolled": true
   },
   "outputs": [
    {
     "data": {
      "text/html": [
       "<p><strong><pre style='display: inline;'>q1</pre></strong> passed! 🍀</p>"
      ],
      "text/plain": [
       "q1 results: All test cases passed!"
      ]
     },
     "execution_count": 6,
     "metadata": {},
     "output_type": "execute_result"
    }
   ],
   "source": [
    "grader.check(\"q1\")"
   ]
  },
  {
   "cell_type": "markdown",
   "metadata": {
    "deletable": false,
    "editable": false
   },
   "source": [
    "**Question 2: Block validity.** Next, you must write the method `verifyBlock` to check that the provided `block` has been validly generated. Your function should return `True` if the block is valid and `False` otherwise.\n",
    "\n",
    "That is: verify that each block satisfies the following two rules.\n",
    "\n",
    "1. The signature in every transaction is correct, and\n",
    "2. Every block has a `nonce` that is chosen to satisfy the difficulty rule.\n",
    "\n",
    "(Note: we stated in the instructions above that blocks in a blockchain must satisfy _four_ rules. But these are the only two rules that can be checked by looking at a single block; the other two rules require you to look at the entire blockchain at once, and we will defer those checks to the final question of the assignment.)\n",
    "\n",
    "_Points:_ 1"
   ]
  },
  {
   "cell_type": "code",
   "execution_count": 7,
   "metadata": {
    "tags": []
   },
   "outputs": [],
   "source": [
    "def verifyBlock(block: Block) -> bool:\n",
    "    \"\"\"Goal: Check that the block provided contains only valid transactions and the nonce is difficult enough.\"\"\"\n",
    "\n",
    "    # Step 1: Check the validity of every transaction in the block.\n",
    "    for t in block.transactions:\n",
    "        if not isValidTransaction(t):\n",
    "            return False\n",
    "\n",
    "    # Step 2: Check the nonce is difficult enough (recall that the difficulty rule: the hash of a valid block must begin with 8 bits (one byte) of all 0s)\n",
    "    if block.hash().startswith(\"0\"): \n",
    "        return True\n",
    "    else:\n",
    "        return False"
   ]
  },
  {
   "cell_type": "code",
   "execution_count": 8,
   "metadata": {
    "deletable": false,
    "editable": false
   },
   "outputs": [
    {
     "data": {
      "text/html": [
       "<p><strong><pre style='display: inline;'>q2</pre></strong> passed! 🌈</p>"
      ],
      "text/plain": [
       "q2 results: All test cases passed!"
      ]
     },
     "execution_count": 8,
     "metadata": {},
     "output_type": "execute_result"
    }
   ],
   "source": [
    "grader.check(\"q2\")"
   ]
  },
  {
   "cell_type": "markdown",
   "metadata": {
    "deletable": false,
    "editable": false
   },
   "source": [
    "**Question 3: Blockchain validity and balance calculation.** Finally, write the method `findBalance` that determines if the entire blockchain is valid. \n",
    "- If so, then return the balance of the each player in the type of `list[int]`.\n",
    "- If not, then return `False`.\n",
    "\n",
    "This method should take two parameters as inputs:\n",
    "- the `blockchain` that you are checking the validity of, and\n",
    "- a list of integers containing the initial `players_balance` before the start of the blockchain. Since our toy blockchain doesn't have any mining rewards, instead we initialize the toy blockchain by asserting that Players A and C have one coin each before the start of the system.\n",
    "\n",
    "Remember that you must check all four properties that determine whether a blockchain is valid:\n",
    "\n",
    "1. The signature in every transaction is correct,\n",
    "2. Every block has a `nonce` that is chosen to satisfy the difficulty rule,\n",
    "3. Every block points to the previous block (and by convention, the initial block -- called the \"genesis\" block -- has a hash of all-0s), and\n",
    "4. Everyone has enough money in their account at the moment they post a transaction.\n",
    "\n",
    "You may use the functions `isValidTransaction` and `verifyBlock` that you created in questions 1 and 2.\n",
    "\n",
    "_Points:_ 2"
   ]
  },
  {
   "cell_type": "code",
   "execution_count": 9,
   "metadata": {
    "deletable": false,
    "editable": false
   },
   "outputs": [],
   "source": [
    "## Execute, but DO NOT MODIFY this code block. ##\n",
    "\n",
    "from typing import Union\n",
    "players_balance = [1,0,1,0,0] # initially, Players A and C have 1 coin each"
   ]
  },
  {
   "cell_type": "code",
   "execution_count": 10,
   "metadata": {
    "tags": []
   },
   "outputs": [],
   "source": [
    "def findBalance(blockchain: list[Block], players_balance: list[int]) -> Union[list[int], bool]:\n",
    "\n",
    "    #Checking genesis block's validity\n",
    "    if not verifyBlock(blockchain[0]) or blockchain[0].previous_hash != \"0000000000000000000000000000000000000000000000000000000000000000\":\n",
    "        return False\n",
    "\n",
    "    #Checking other blocks's validity\n",
    "    for i in range(1, len(blockchain)):\n",
    "        if blockchain[i].previous_hash != blockchain[i-1].hash():\n",
    "            return False\n",
    "            \n",
    "    #Checking the transactions are valid\n",
    "    for b in blockchain:\n",
    "        for t in b.transactions:\n",
    "            sender_pk = t.transaction_payload.sender_public_key\n",
    "            sender_idx = public_keys.index(sender_pk)\n",
    "            amount = t.transaction_payload.amount\n",
    "            players_balance[sender_idx] -= amount #If the transaction can be executed, then modify the balance.\n",
    "            receiver_pk = t.transaction_payload.receiver_public_key\n",
    "            receiver_idx = public_keys.index(receiver_pk)\n",
    "            players_balance[receiver_idx] += amount\n",
    "            for bal in players_balance:\n",
    "                if bal < 0:\n",
    "                    return False\n",
    "    \n",
    "    return players_balance "
   ]
  },
  {
   "cell_type": "code",
   "execution_count": 11,
   "metadata": {
    "deletable": false,
    "editable": false
   },
   "outputs": [
    {
     "data": {
      "text/html": [
       "<p><strong><pre style='display: inline;'>q3</pre></strong> passed! ✨</p>"
      ],
      "text/plain": [
       "q3 results: All test cases passed!"
      ]
     },
     "execution_count": 11,
     "metadata": {},
     "output_type": "execute_result"
    }
   ],
   "source": [
    "grader.check(\"q3\")"
   ]
  },
  {
   "cell_type": "markdown",
   "metadata": {},
   "source": [
    "## Submitting the Assignment\n",
    "\n",
    "Please follow these instructions to complete the assignment and submit it for credit.\n",
    "\n",
    "**Documenting collaborators, sources, and AI tools:** In accordance with the collaboration policy, use the space below to report if you used any resources to complete this homework assignment, aside from the lecture notes and the course textbooks/videos. Specifically, please report:\n",
    "\n",
    "1. Names of all classmates you worked with, and a short description of the work that you performed together.\n",
    "2. All written materials that you used, such as books or websites (besides the lecture notes or textbooks). Please include links to any web-based resources, or citations to any physical works.\n",
    "3. All code that you used from other sources. In particular, if you used an AI tool, then you must include the entire exchange with the AI tool, as per the [CDS Generative AI Assistance Policy](https://www.bu.edu/cds-faculty/culture-community/gaia-policy/).\n",
    "\n",
    "Remember that if we discover any undocumented collaborators, sources, or AI tools then this is grounds for a grade penalty and referral to BU's Academic Conduct Committee (as described in the syllabus)."
   ]
  },
  {
   "cell_type": "markdown",
   "metadata": {},
   "source": [
    "_Your response:_\n",
    "\n",
    "1. N/A\n",
    "\n",
    "2. N/A\n",
    "\n",
    "3. N/A"
   ]
  },
  {
   "cell_type": "markdown",
   "metadata": {},
   "source": [
    "**Sending to Gradescope:** After completing the assignment:\n",
    "- if you did the assignment on Colab, download it in `.ipynb` format.\n",
    "- if you did the assignment locally on your machine, all you need to do is to find it in your directory.\n",
    "\n",
    "Then, submit only the `.ipynb` file to this week's programming assignment on Gradescope. It may take a few seconds or a minute for the auto-grading system to check your work.\n",
    "\n",
    "Remember that you can submit as many times as you want until the deadline for the assignment; only your last score counts."
   ]
  },
  {
   "cell_type": "markdown",
   "metadata": {
    "deletable": false,
    "editable": false
   },
   "source": [
    "## Submission\n",
    "\n",
    "Make sure you have run all cells in your notebook in order before running the cell below, so that all images/graphs appear in the output. The cell below will generate a zip file for you to submit. **Please save before exporting!**\n",
    "\n",
    "Submit your assignment on Gradescope once you have passed enough tests to receive at least 4 of the 5 available points."
   ]
  },
  {
   "cell_type": "code",
   "execution_count": 12,
   "metadata": {
    "deletable": false,
    "editable": false
   },
   "outputs": [
    {
     "name": "stderr",
     "output_type": "stream",
     "text": [
      "/Library/Frameworks/Python.framework/Versions/3.12/lib/python3.12/site-packages/otter/check/notebook.py:470: UserWarning: Could not locate a PDF to include\n",
      "  warnings.warn(\"Could not locate a PDF to include\")\n"
     ]
    },
    {
     "ename": "ModuleNotFoundError",
     "evalue": "No module named 'pkg_resources'",
     "output_type": "error",
     "traceback": [
      "\u001b[0;31m---------------------------------------------------------------------------\u001b[0m",
      "\u001b[0;31mModuleNotFoundError\u001b[0m                       Traceback (most recent call last)",
      "Cell \u001b[0;32mIn[12], line 2\u001b[0m\n\u001b[1;32m      1\u001b[0m \u001b[38;5;66;03m# Save your notebook first, then run this cell to export your submission.\u001b[39;00m\n\u001b[0;32m----> 2\u001b[0m \u001b[43mgrader\u001b[49m\u001b[38;5;241;43m.\u001b[39;49m\u001b[43mexport\u001b[49m\u001b[43m(\u001b[49m\u001b[43mrun_tests\u001b[49m\u001b[38;5;241;43m=\u001b[39;49m\u001b[38;5;28;43;01mTrue\u001b[39;49;00m\u001b[43m)\u001b[49m\n",
      "File \u001b[0;32m/Library/Frameworks/Python.framework/Versions/3.12/lib/python3.12/site-packages/otter/check/utils.py:184\u001b[0m, in \u001b[0;36mgrading_mode_disabled\u001b[0;34m(wrapped, self, args, kwargs)\u001b[0m\n\u001b[1;32m    182\u001b[0m \u001b[38;5;28;01mif\u001b[39;00m \u001b[38;5;28mtype\u001b[39m(\u001b[38;5;28mself\u001b[39m)\u001b[38;5;241m.\u001b[39m_grading_mode:\n\u001b[1;32m    183\u001b[0m     \u001b[38;5;28;01mreturn\u001b[39;00m\n\u001b[0;32m--> 184\u001b[0m \u001b[38;5;28;01mreturn\u001b[39;00m \u001b[43mwrapped\u001b[49m\u001b[43m(\u001b[49m\u001b[38;5;241;43m*\u001b[39;49m\u001b[43margs\u001b[49m\u001b[43m,\u001b[49m\u001b[43m \u001b[49m\u001b[38;5;241;43m*\u001b[39;49m\u001b[38;5;241;43m*\u001b[39;49m\u001b[43mkwargs\u001b[49m\u001b[43m)\u001b[49m\n",
      "File \u001b[0;32m/Library/Frameworks/Python.framework/Versions/3.12/lib/python3.12/site-packages/otter/check/utils.py:166\u001b[0m, in \u001b[0;36mincompatible_with.<locals>.incompatible\u001b[0;34m(wrapped, self, args, kwargs)\u001b[0m\n\u001b[1;32m    164\u001b[0m     \u001b[38;5;28;01melse\u001b[39;00m:\n\u001b[1;32m    165\u001b[0m         \u001b[38;5;28;01mreturn\u001b[39;00m\n\u001b[0;32m--> 166\u001b[0m \u001b[38;5;28;01mreturn\u001b[39;00m \u001b[43mwrapped\u001b[49m\u001b[43m(\u001b[49m\u001b[38;5;241;43m*\u001b[39;49m\u001b[43margs\u001b[49m\u001b[43m,\u001b[49m\u001b[43m \u001b[49m\u001b[38;5;241;43m*\u001b[39;49m\u001b[38;5;241;43m*\u001b[39;49m\u001b[43mkwargs\u001b[49m\u001b[43m)\u001b[49m\n",
      "File \u001b[0;32m/Library/Frameworks/Python.framework/Versions/3.12/lib/python3.12/site-packages/otter/check/utils.py:217\u001b[0m, in \u001b[0;36mlogs_event.<locals>.event_logger\u001b[0;34m(wrapped, self, args, kwargs)\u001b[0m\n\u001b[1;32m    215\u001b[0m \u001b[38;5;28;01mexcept\u001b[39;00m \u001b[38;5;167;01mException\u001b[39;00m \u001b[38;5;28;01mas\u001b[39;00m e:\n\u001b[1;32m    216\u001b[0m     \u001b[38;5;28mself\u001b[39m\u001b[38;5;241m.\u001b[39m_log_event(event_type, success\u001b[38;5;241m=\u001b[39m\u001b[38;5;28;01mFalse\u001b[39;00m, error\u001b[38;5;241m=\u001b[39me)\n\u001b[0;32m--> 217\u001b[0m     \u001b[38;5;28;01mraise\u001b[39;00m e\n\u001b[1;32m    219\u001b[0m \u001b[38;5;28;01mif\u001b[39;00m ret \u001b[38;5;129;01mis\u001b[39;00m \u001b[38;5;28;01mNone\u001b[39;00m:\n\u001b[1;32m    220\u001b[0m     ret \u001b[38;5;241m=\u001b[39m LoggedEventReturnValue(\u001b[38;5;28;01mNone\u001b[39;00m)\n",
      "File \u001b[0;32m/Library/Frameworks/Python.framework/Versions/3.12/lib/python3.12/site-packages/otter/check/utils.py:213\u001b[0m, in \u001b[0;36mlogs_event.<locals>.event_logger\u001b[0;34m(wrapped, self, args, kwargs)\u001b[0m\n\u001b[1;32m    208\u001b[0m \u001b[38;5;250m\u001b[39m\u001b[38;5;124;03m\"\"\"\u001b[39;00m\n\u001b[1;32m    209\u001b[0m \u001b[38;5;124;03mRuns a method, catching any errors and logging the call. Returns the unwrapped return value\u001b[39;00m\n\u001b[1;32m    210\u001b[0m \u001b[38;5;124;03mof the wrapped function.\u001b[39;00m\n\u001b[1;32m    211\u001b[0m \u001b[38;5;124;03m\"\"\"\u001b[39;00m\n\u001b[1;32m    212\u001b[0m \u001b[38;5;28;01mtry\u001b[39;00m:\n\u001b[0;32m--> 213\u001b[0m     ret: Optional[LoggedEventReturnValue[T]] \u001b[38;5;241m=\u001b[39m \u001b[43mwrapped\u001b[49m\u001b[43m(\u001b[49m\u001b[38;5;241;43m*\u001b[39;49m\u001b[43margs\u001b[49m\u001b[43m,\u001b[49m\u001b[43m \u001b[49m\u001b[38;5;241;43m*\u001b[39;49m\u001b[38;5;241;43m*\u001b[39;49m\u001b[43mkwargs\u001b[49m\u001b[43m)\u001b[49m\n\u001b[1;32m    215\u001b[0m \u001b[38;5;28;01mexcept\u001b[39;00m \u001b[38;5;167;01mException\u001b[39;00m \u001b[38;5;28;01mas\u001b[39;00m e:\n\u001b[1;32m    216\u001b[0m     \u001b[38;5;28mself\u001b[39m\u001b[38;5;241m.\u001b[39m_log_event(event_type, success\u001b[38;5;241m=\u001b[39m\u001b[38;5;28;01mFalse\u001b[39;00m, error\u001b[38;5;241m=\u001b[39me)\n",
      "File \u001b[0;32m/Library/Frameworks/Python.framework/Versions/3.12/lib/python3.12/site-packages/otter/check/notebook.py:525\u001b[0m, in \u001b[0;36mNotebook.export\u001b[0;34m(self, nb_path, export_path, pdf, filtering, pagebreaks, files, display_link, force_save, run_tests)\u001b[0m\n\u001b[1;32m    523\u001b[0m \u001b[38;5;28;01mif\u001b[39;00m pdf_created \u001b[38;5;129;01mor\u001b[39;00m \u001b[38;5;129;01mnot\u001b[39;00m \u001b[38;5;28mself\u001b[39m\u001b[38;5;241m.\u001b[39m_nbmeta_config\u001b[38;5;241m.\u001b[39mrequire_no_pdf_confirmation:\n\u001b[1;32m    524\u001b[0m     \u001b[38;5;28;01mif\u001b[39;00m pdf_error \u001b[38;5;129;01mis\u001b[39;00m \u001b[38;5;129;01mnot\u001b[39;00m \u001b[38;5;28;01mNone\u001b[39;00m:\n\u001b[0;32m--> 525\u001b[0m         \u001b[38;5;28;01mraise\u001b[39;00m pdf_error\n\u001b[1;32m    526\u001b[0m     continue_export()\n\u001b[1;32m    527\u001b[0m \u001b[38;5;28;01melse\u001b[39;00m:\n",
      "File \u001b[0;32m/Library/Frameworks/Python.framework/Versions/3.12/lib/python3.12/site-packages/otter/check/notebook.py:462\u001b[0m, in \u001b[0;36mNotebook.export\u001b[0;34m(self, nb_path, export_path, pdf, filtering, pagebreaks, files, display_link, force_save, run_tests)\u001b[0m\n\u001b[1;32m    460\u001b[0m pdf_path, pdf_created, pdf_error \u001b[38;5;241m=\u001b[39m \u001b[38;5;28;01mNone\u001b[39;00m, \u001b[38;5;28;01mTrue\u001b[39;00m, \u001b[38;5;28;01mNone\u001b[39;00m\n\u001b[1;32m    461\u001b[0m \u001b[38;5;28;01mif\u001b[39;00m pdf:\n\u001b[0;32m--> 462\u001b[0m     \u001b[38;5;28;01mtry\u001b[39;00m: pdf_path \u001b[38;5;241m=\u001b[39m \u001b[43mexport_notebook\u001b[49m\u001b[43m(\u001b[49m\u001b[43mnb_path\u001b[49m\u001b[43m,\u001b[49m\u001b[43m \u001b[49m\u001b[43mfiltering\u001b[49m\u001b[38;5;241;43m=\u001b[39;49m\u001b[43mfiltering\u001b[49m\u001b[43m,\u001b[49m\u001b[43m \u001b[49m\u001b[43mpagebreaks\u001b[49m\u001b[38;5;241;43m=\u001b[39;49m\u001b[43mpagebreaks\u001b[49m\u001b[43m)\u001b[49m\n\u001b[1;32m    463\u001b[0m     \u001b[38;5;28;01mexcept\u001b[39;00m \u001b[38;5;167;01mException\u001b[39;00m \u001b[38;5;28;01mas\u001b[39;00m e: pdf_error \u001b[38;5;241m=\u001b[39m e\n\u001b[1;32m    464\u001b[0m     \u001b[38;5;28;01mif\u001b[39;00m pdf_path \u001b[38;5;129;01mand\u001b[39;00m os\u001b[38;5;241m.\u001b[39mpath\u001b[38;5;241m.\u001b[39misfile(pdf_path):\n",
      "File \u001b[0;32m/Library/Frameworks/Python.framework/Versions/3.12/lib/python3.12/site-packages/otter/export/__init__.py:28\u001b[0m, in \u001b[0;36mexport_notebook\u001b[0;34m(nb_path, dest, exporter_type, **kwargs)\u001b[0m\n\u001b[1;32m     25\u001b[0m \u001b[38;5;28;01mexcept\u001b[39;00m:\n\u001b[1;32m     26\u001b[0m     \u001b[38;5;28;01mraise\u001b[39;00m \u001b[38;5;167;01mImportError\u001b[39;00m(\u001b[38;5;124m\"\u001b[39m\u001b[38;5;124mnbconvert is required for Otter Export but it could not be found\u001b[39m\u001b[38;5;124m\"\u001b[39m)\n\u001b[0;32m---> 28\u001b[0m \u001b[38;5;28;01mfrom\u001b[39;00m \u001b[38;5;21;01m.\u001b[39;00m\u001b[38;5;21;01mexporters\u001b[39;00m \u001b[38;5;28;01mimport\u001b[39;00m get_exporter\n\u001b[1;32m     30\u001b[0m \u001b[38;5;28;01mif\u001b[39;00m dest \u001b[38;5;129;01mis\u001b[39;00m \u001b[38;5;129;01mnot\u001b[39;00m \u001b[38;5;28;01mNone\u001b[39;00m:\n\u001b[1;32m     31\u001b[0m     pdf_name \u001b[38;5;241m=\u001b[39m dest\n",
      "File \u001b[0;32m/Library/Frameworks/Python.framework/Versions/3.12/lib/python3.12/site-packages/otter/export/exporters/__init__.py:5\u001b[0m\n\u001b[1;32m      1\u001b[0m \u001b[38;5;124;03m\"\"\"Exporters for Otter Export\"\"\"\u001b[39;00m\n\u001b[1;32m      3\u001b[0m \u001b[38;5;28;01mimport\u001b[39;00m \u001b[38;5;21;01mshutil\u001b[39;00m\n\u001b[0;32m----> 5\u001b[0m \u001b[38;5;28;01mfrom\u001b[39;00m \u001b[38;5;21;01m.\u001b[39;00m\u001b[38;5;21;01mvia_latex\u001b[39;00m \u001b[38;5;28;01mimport\u001b[39;00m PDFViaLatexExporter\n\u001b[1;32m      7\u001b[0m \u001b[38;5;28;01mfrom\u001b[39;00m \u001b[38;5;21;01m.\u001b[39;00m\u001b[38;5;21;01m.\u001b[39;00m\u001b[38;5;21;01mutils\u001b[39;00m \u001b[38;5;28;01mimport\u001b[39;00m WkhtmltopdfNotFoundError\n\u001b[1;32m     10\u001b[0m \u001b[38;5;28;01mdef\u001b[39;00m \u001b[38;5;21mget_exporter\u001b[39m(exporter_type\u001b[38;5;241m=\u001b[39m\u001b[38;5;28;01mNone\u001b[39;00m):\n",
      "File \u001b[0;32m/Library/Frameworks/Python.framework/Versions/3.12/lib/python3.12/site-packages/otter/export/exporters/via_latex.py:9\u001b[0m\n\u001b[1;32m      5\u001b[0m \u001b[38;5;28;01mimport\u001b[39;00m \u001b[38;5;21;01mwarnings\u001b[39;00m\n\u001b[1;32m      7\u001b[0m \u001b[38;5;28;01mfrom\u001b[39;00m \u001b[38;5;21;01mtextwrap\u001b[39;00m \u001b[38;5;28;01mimport\u001b[39;00m indent\n\u001b[0;32m----> 9\u001b[0m \u001b[38;5;28;01mfrom\u001b[39;00m \u001b[38;5;21;01m.\u001b[39;00m\u001b[38;5;21;01mbase_exporter\u001b[39;00m \u001b[38;5;28;01mimport\u001b[39;00m BaseExporter, ExportFailedException, NBCONVERT_6, TEMPLATE_DIR\n\u001b[1;32m     11\u001b[0m \u001b[38;5;28;01mfrom\u001b[39;00m \u001b[38;5;21;01m.\u001b[39;00m\u001b[38;5;21;01m.\u001b[39;00m\u001b[38;5;21;01m.\u001b[39;00m\u001b[38;5;21;01mutils\u001b[39;00m \u001b[38;5;28;01mimport\u001b[39;00m print_full_width\n\u001b[1;32m     14\u001b[0m \u001b[38;5;28;01mclass\u001b[39;00m \u001b[38;5;21;01mPDFViaLatexExporter\u001b[39;00m(BaseExporter):\n",
      "File \u001b[0;32m/Library/Frameworks/Python.framework/Versions/3.12/lib/python3.12/site-packages/otter/export/exporters/base_exporter.py:5\u001b[0m\n\u001b[1;32m      3\u001b[0m \u001b[38;5;28;01mimport\u001b[39;00m \u001b[38;5;21;01mnbformat\u001b[39;00m\n\u001b[1;32m      4\u001b[0m \u001b[38;5;28;01mimport\u001b[39;00m \u001b[38;5;21;01mnbconvert\u001b[39;00m\n\u001b[0;32m----> 5\u001b[0m \u001b[38;5;28;01mimport\u001b[39;00m \u001b[38;5;21;01mpkg_resources\u001b[39;00m\n\u001b[1;32m      7\u001b[0m \u001b[38;5;28;01mfrom\u001b[39;00m \u001b[38;5;21;01mabc\u001b[39;00m \u001b[38;5;28;01mimport\u001b[39;00m ABC, abstractmethod\n\u001b[1;32m      9\u001b[0m \u001b[38;5;28;01mfrom\u001b[39;00m \u001b[38;5;21;01m.\u001b[39;00m\u001b[38;5;21;01mutils\u001b[39;00m \u001b[38;5;28;01mimport\u001b[39;00m has_begin, has_end, sub_end_for_new_page\n",
      "\u001b[0;31mModuleNotFoundError\u001b[0m: No module named 'pkg_resources'"
     ]
    }
   ],
   "source": [
    "# Save your notebook first, then run this cell to export your submission.\n",
    "grader.export(run_tests=True)"
   ]
  },
  {
   "cell_type": "markdown",
   "metadata": {},
   "source": [
    " "
   ]
  }
 ],
 "metadata": {
  "kernelspec": {
   "display_name": "Python 3 (ipykernel)",
   "language": "python",
   "name": "python3"
  },
  "language_info": {
   "codemirror_mode": {
    "name": "ipython",
    "version": 3
   },
   "file_extension": ".py",
   "mimetype": "text/x-python",
   "name": "python",
   "nbconvert_exporter": "python",
   "pygments_lexer": "ipython3",
   "version": "3.12.1"
  },
  "otter": {
   "OK_FORMAT": true,
   "tests": {
    "q1": {
     "name": "q1",
     "points": 2,
     "suites": [
      {
       "cases": [
        {
         "code": ">>> def q1_public_tests():\n...     tx = Transaction(TransactionPayload(public_keys[0], public_keys[1], 1), 'edd6bb60e8486f9747f911a6d7340c275d5a417c3823952715a18a64d3577325413cf544e8f48e6c30a312649200c57b72d7eaa4721abf376dbd0dc799db6c3a')\n...     if isValidTransaction(tx) != True:\n...         print('Failed part 1')\n...         return False\n...     tx.signature = '00000000000000000000000000000000000000000000000000000000000000000000000000000000000000000000000000000000000000000000000000000000'\n...     if isValidTransaction(tx) != False:\n...         print('Failed part 2')\n...         return False\n...     tx = Transaction(TransactionPayload(public_keys[2], public_keys[3], 1), '33bcaaa920207125ec72ea7f9e5fbddb993479dbe7122c6dfcf0a96f2e646dd90ff73c90c784f473480e32fd2fb68735af86458bc0434e5958f025cc9e0ddd59')\n...     if isValidTransaction(tx) != True:\n...         print('Failed part 3')\n...         return False\n...     tx.signature = '2222222222222222222222222222222222222222222222222222222222222222'\n...     if isValidTransaction(tx) != False:\n...         print('Failed part 4')\n...         return False\n...     return True\n>>> q1_public_tests() == True\nTrue",
         "hidden": false,
         "locked": false
        }
       ],
       "scored": true,
       "setup": "",
       "teardown": "",
       "type": "doctest"
      }
     ]
    },
    "q2": {
     "name": "q2",
     "points": 1,
     "suites": [
      {
       "cases": [
        {
         "code": ">>> def q2_public_tests():\n...     for block in blockchain:\n...         if not verifyBlock(block):\n...             print('Failed part 1')\n...             return False\n...     tp_in_invalid_block = TransactionPayload(public_keys[2], public_keys[4], 3)\n...     sig_in_invalid_block = '69d1d28a8b757d038e4bb767cbf69179b2d41081f43c31736667976e106d94ac379e5c4aac2541d5b78eb064d58c42df759148889e31514b23479ed1b7ff9a10'\n...     tx_in_invalid_block = Transaction(tp_in_invalid_block, sig_in_invalid_block)\n...     hash_in_invalid_block = '00ada715cd964e14b36d5d18369640d384f64024406171b0937d2521ccc1c1d9'\n...     nonce_in_invalid_block = 327\n...     invalid_block = Block(2, [tx_in_invalid_block], hash_in_invalid_block, nonce_in_invalid_block)\n...     if verifyBlock(invalid_block):\n...         print('Failed part 2')\n...         return False\n...     return True\n>>> q2_public_tests() == True\nTrue",
         "hidden": false,
         "locked": false
        }
       ],
       "scored": true,
       "setup": "",
       "teardown": "",
       "type": "doctest"
      }
     ]
    },
    "q3": {
     "name": "q3",
     "points": 2,
     "suites": [
      {
       "cases": [
        {
         "code": ">>> def q3_public_tests(blockchain):\n...     players_balance = [1, 0, 1, 0, 0]\n...     if findBalance(blockchain, players_balance) != [1, 1, 0, 0, 0]:\n...         print('Failed part 1')\n...         return False\n...     players_balance = [1, 0, 1, 0, 0]\n...     invalid_blockchain = [gen_block_0(), gen_block_1()]\n...     invalid_blockchain[1].previous_hash = '2222222222222222222122222122222222222222222222222222222222222222'\n...     if findBalance(invalid_blockchain, players_balance) == True:\n...         print('Failed part 2')\n...         return False\n...     return True\n>>> q3_public_tests(blockchain)\nTrue",
         "hidden": false,
         "locked": false
        }
       ],
       "scored": true,
       "setup": "",
       "teardown": "",
       "type": "doctest"
      }
     ]
    }
   }
  }
 },
 "nbformat": 4,
 "nbformat_minor": 4
}
