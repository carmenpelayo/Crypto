{
 "cells": [
  {
   "cell_type": "code",
   "execution_count": 1,
   "metadata": {
    "deletable": false,
    "editable": false
   },
   "outputs": [],
   "source": [
    "# Initialize Otter\n",
    "import otter\n",
    "grader = otter.Notebook(\"assignment6.ipynb\")"
   ]
  },
  {
   "cell_type": "markdown",
   "metadata": {},
   "source": [
    "# DS 453 / 653: Programming Assignment 6\n",
    "\n",
    "**Due date**: Sunday, March 31 at 8pm on [Gradescope](https://www.gradescope.com/courses/710247).\n",
    "\n",
    "_You must follow the Academic Code of Conduct and Collaboration Policy stated in the course syllabus at all times while working on this assignment._\n",
    "\n",
    "This assignment contains 3 questions worth a total of 5 points. You must receive at least 4 points to pass the assignment.\n",
    "\n",
    "To begin, please execute the code block below:"
   ]
  },
  {
   "cell_type": "code",
   "execution_count": 2,
   "metadata": {},
   "outputs": [
    {
     "name": "stdout",
     "output_type": "stream",
     "text": [
      "\u001b[33mDEPRECATION: Loading egg at /Library/Frameworks/Python.framework/Versions/3.12/lib/python3.12/site-packages/luxai2021-0.1.0-py3.12.egg is deprecated. pip 24.3 will enforce this behaviour change. A possible replacement is to use pip for package installation.. Discussion can be found at https://github.com/pypa/pip/issues/12330\u001b[0m\u001b[33m\n",
      "\u001b[0mRequirement already satisfied: pycryptodome in /Library/Frameworks/Python.framework/Versions/3.12/lib/python3.12/site-packages (3.20.0)\n"
     ]
    }
   ],
   "source": [
    "# Execute this block only if you are using Google Colab.\n",
    "# If you are running the notebook file locally, install pycryptodome yourself but do NOT install the package pycrypto.\n",
    "\n",
    "!pip install pycryptodome"
   ]
  },
  {
   "cell_type": "markdown",
   "metadata": {},
   "source": [
    "## Assignment Overview\n",
    "\n"
   ]
  },
  {
   "cell_type": "markdown",
   "metadata": {},
   "source": [
    "#### Helper functions"
   ]
  },
  {
   "cell_type": "code",
   "execution_count": 3,
   "metadata": {},
   "outputs": [],
   "source": [
    "from Crypto.Util.strxor import strxor\n",
    "from binascii import hexlify, unhexlify\n",
    "import string\n",
    "import os\n",
    "\n",
    "# the one-time pad operation, applied to bytestrings for the message and key\n",
    "def one_time_pad(bytesMessage, bytesKey):\n",
    "    \"\"\" If both the message and key are of type string and have the same length,\n",
    "        then takes their strxor and returns the corresponding ciphertext.\n",
    "    \"\"\"\n",
    "    assert(type(bytesMessage) == bytes)\n",
    "    assert(type(bytesKey)     == bytes)\n",
    "    assert(len(bytesMessage)  == len(bytesKey))\n",
    "    return strxor(bytesMessage, bytesKey)\n",
    "\n",
    "# list of the top 100 words, in all lowercase letters\n",
    "words_lower = [b'a', b'about', b'after', b'all', b'also', b'an', b'and', b'any', b'as',\n",
    "               b'at', b'back', b'be', b'because', b'but', b'by', b'can', b'come',\n",
    "               b'could', b'day', b'do', b'even', b'first', b'for', b'from', b'get',\n",
    "               b'give', b'go', b'good', b'have', b'he', b'her', b'him', b'his', b'how',\n",
    "               b'i', b'if', b'in', b'into', b'it', b'its', b'just', b'know', b'like',\n",
    "               b'look', b'make', b'me', b'most', b'my', b'new', b'no', b'not', b'now',\n",
    "               b'of', b'on', b'one', b'only', b'or', b'other', b'our', b'out', b'over',\n",
    "               b'people', b'say', b'see', b'she', b'so', b'some', b'take', b'than',\n",
    "               b'that', b'the', b'their', b'them', b'then', b'there', b'these', b'they',\n",
    "               b'think', b'this', b'time', b'to', b'two', b'up', b'us', b'use', b'want',\n",
    "               b'way', b'we', b'well', b'what', b'when', b'which', b'who', b'will',\n",
    "               b'with', b'work', b'would', b'year', b'you', b'your']\n",
    "\n",
    "# top 100 words, this time with a capitalized first letter\n",
    "words_upper = [(word.decode('ascii')[0].upper() + word.decode('ascii')[1:]).encode('ascii') for word in words_lower]\n",
    "\n",
    "# subset of the above list that happens to be three-letter words\n",
    "three_letter_words_lower = [b'all', b'and', b'any', b'but', b'can', b'day', b'for',\n",
    "                           b'get', b'her', b'him', b'his', b'how', b'its', b'new',\n",
    "                           b'not', b'now', b'one', b'our', b'out', b'say', b'see',\n",
    "                           b'she', b'the', b'two', b'use', b'way', b'who', b'you']\n",
    "\n",
    "# the capitalized version of the three letter words list\n",
    "three_letter_words_upper = [(word.decode('ascii')[0].upper() + word.decode('ascii')[1:]).encode('ascii') for word in three_letter_words_lower]"
   ]
  },
  {
   "cell_type": "markdown",
   "metadata": {
    "deletable": false,
    "editable": false
   },
   "source": [
    "### Question 1: Two-time pad attack on three-character lowercase ciphertexts (2 points)\n",
    "\n",
    "A one-time pad simply involves the xor of a message with a key to produce a ciphertext: `c = m ^ k`, where `^` denotes the XOR operation. It is essential that the key be as long as the message, or in other words that the key not be repeated for two distinct message blocks.\n",
    "\n",
    "In this problem, you'll see why the key must only be used once. Your goal is to break small two-time-pad examples. The input ciphertexts are created by:\n",
    "\n",
    "- Choosing two plaintexts at random from the list `three_letter_words_lower`. (This list contains the 3-letter words from the set of the 100 most common English words listed on [Wikipedia](https://en.wikipedia.org/wiki/Most_common_words_in_English), in lowercase format.)\n",
    "\n",
    "- Applying the `one_time_pad()` function to both words, using the same 3-letter `bytesKey` (which is *not* provided!).\n",
    "\n",
    "__Your task__: Even though you don't know the secret key, your job is to recover the two inital messages and return them as a set. (Hint: the messages are short enough that a brute-force attack can work here.)\n",
    "\n",
    "- Input: `c1`, `c2` (byte objects): Ciphertexts created by xor-ing a 3-letter word with some random 3-letter key\n",
    "\n",
    "- Return: `{m1, m2}`: A set of two different `three_letter_words` corresponding to the original plaintext messages\n",
    "\n",
    "\n",
    "__Your response:__"
   ]
  },
  {
   "cell_type": "code",
   "execution_count": 4,
   "metadata": {
    "tags": []
   },
   "outputs": [],
   "source": [
    "def q1_short_lower_twotimepad(c1, c2) -> set:\n",
    "\n",
    "    for i in three_letter_words_lower:\n",
    "        for j in three_letter_words_lower:\n",
    "            if strxor(i,c1) == strxor(j,c2):\n",
    "                return {i, j}"
   ]
  },
  {
   "cell_type": "markdown",
   "metadata": {
    "deletable": false,
    "editable": false
   },
   "source": [
    "Here is a particular test you can use to check whether your code works. Given the ciphertexts:\n",
    "```\n",
    "c1 = b'\\x1e\\x1b\\x03'\n",
    "c2 = b'\\x0f\\t\\x1f'\n",
    "```\n",
    "\n",
    "the corresponding two plaintexts should be `{b'day', b'use'}`, with the key `k = b'zzz'`.\n",
    "\n",
    "_Points:_ 2"
   ]
  },
  {
   "cell_type": "code",
   "execution_count": 5,
   "metadata": {},
   "outputs": [
    {
     "data": {
      "text/plain": [
       "b'day'"
      ]
     },
     "execution_count": 5,
     "metadata": {},
     "output_type": "execute_result"
    }
   ],
   "source": [
    "one_time_pad(b'\\x1e\\x1b\\x03',  b'zzz')"
   ]
  },
  {
   "cell_type": "code",
   "execution_count": 6,
   "metadata": {},
   "outputs": [
    {
     "data": {
      "text/plain": [
       "{b'day', b'use'}"
      ]
     },
     "execution_count": 6,
     "metadata": {},
     "output_type": "execute_result"
    }
   ],
   "source": [
    "q1_short_lower_twotimepad(c1 = b'\\x1e\\x1b\\x03', c2 = b'\\x0f\\t\\x1f')"
   ]
  },
  {
   "cell_type": "code",
   "execution_count": 7,
   "metadata": {
    "deletable": false,
    "editable": false
   },
   "outputs": [
    {
     "data": {
      "text/html": [
       "<p><strong><pre style='display: inline;'>q1</pre></strong> passed! 💯</p>"
      ],
      "text/plain": [
       "q1 results: All test cases passed!"
      ]
     },
     "execution_count": 7,
     "metadata": {},
     "output_type": "execute_result"
    }
   ],
   "source": [
    "grader.check(\"q1\")"
   ]
  },
  {
   "cell_type": "markdown",
   "metadata": {
    "deletable": false,
    "editable": false
   },
   "source": [
    "### Question 2: Two-time pad attack with capitalized and lowercase words (1 point)\n",
    "\n",
    "Now, we make a small change to the previous question. This time, we guarantee that:\n",
    "- the first message `m1` is a capitalized word from the list `three_letter_words_upper` (e.g., the word `New`).\n",
    "- the second message `m2` is a lowercase word from the list `three_letter_words_lower` (e.g., the word `day`).\n",
    "\n",
    "As a result, when you recover the two messages, you should also know their order. So, you can concatenate the two words together and put a space between them (e.g., `New day`). The one downside is that this function might return multiple possible outputs. Consider the following example:"
   ]
  },
  {
   "cell_type": "code",
   "execution_count": 8,
   "metadata": {
    "deletable": false,
    "editable": false
   },
   "outputs": [
    {
     "name": "stdout",
     "output_type": "stream",
     "text": [
      "b'/\\x07\\x14' b'\\x05\\x03\\x1a'\n",
      "b'/\\x07\\x14' b'\\x05\\x03\\x1a'\n"
     ]
    }
   ],
   "source": [
    "print(one_time_pad(b'New', b'abc'), one_time_pad(b'day', b'abc'))\n",
    "print(one_time_pad(b'Day', b'kfm'), one_time_pad(b'new', b'kfm'))"
   ]
  },
  {
   "cell_type": "markdown",
   "metadata": {
    "deletable": false,
    "editable": false
   },
   "source": [
    "Hence, from the two ciphertexts `c1 = b'/\\x07\\x14'` and `c2 = b'\\x05\\x03\\x1a'`, it might be the case that the original message was `New day` or `Day new`; you cannot distinguish between the two. Still though, this attack is deemed to be successful if we can narrow down the set of possible messages to just a small number of possible options.\n",
    "\n",
    "__Your task__: Once again, recover the two initial messages. This time, you are allowed to output a set of possible concatenated bytestrings, as long as this set is not too large.\n",
    "\n",
    "- Input: `c1`, `c2` (byte objects): Ciphertexts created by xor-ing a 3-letter word with some random 3-letter key. It is guaranteed that message `m1` has a capitalized first letter, whereas message `m2` does not.\n",
    "\n",
    "- Return: A set of up to 10 possible `m1 + b' ' + m2` combinations of possible two-word plaintext messages. (Note that each individual string should be 7 bytes long, with the space in between the two 3-letter words.)\n",
    "\n",
    "__Your response:__\n",
    "\n",
    "_Points:_ 1"
   ]
  },
  {
   "cell_type": "code",
   "execution_count": 9,
   "metadata": {
    "tags": []
   },
   "outputs": [],
   "source": [
    "def q2_short_twotimepad(c1, c2) -> set:\n",
    "    messages = set()\n",
    "    for i in three_letter_words_upper:\n",
    "        for j in three_letter_words_lower:\n",
    "            if strxor(i,c1) == strxor(j,c2):\n",
    "                messages.add(i + b' ' + j)\n",
    "    return messages"
   ]
  },
  {
   "cell_type": "code",
   "execution_count": 10,
   "metadata": {
    "deletable": false,
    "editable": false
   },
   "outputs": [
    {
     "data": {
      "text/html": [
       "<p><strong><pre style='display: inline;'>q2</pre></strong> passed! 🌟</p>"
      ],
      "text/plain": [
       "q2 results: All test cases passed!"
      ]
     },
     "execution_count": 10,
     "metadata": {},
     "output_type": "execute_result"
    }
   ],
   "source": [
    "grader.check(\"q2\")"
   ]
  },
  {
   "cell_type": "markdown",
   "metadata": {
    "deletable": false,
    "editable": false
   },
   "source": [
    "### Question 3: Two-time pad attack on longer messages (2 points)\n",
    "\n",
    "__Your task:__ In this problem you will again break a cipher when the one-time pad is re-used. This time though, we have encrypted two long bytestrings that contain __multiple words__, with spaces in between the words. You are given two _hex-encoded_ ciphertexts `c1_hex` and `c2_hex` that have the same length as each other (note that the particular length is not fixed). They were formed by applying a “one-time pad” to two different messages _with the same key_. You must find the two corresponding messages `m_1` and `m_2`.\n",
    "\n",
    "_Note: Do not try a brute-force attack on the key! That will quickly turn into \"energy of the sun\" type of work; in particular, you won't be able to complete the homework assignment by the deadline._\n",
    "\n",
    "To make your search for the plaintext messages simpler, let me lay out a few ground rules:\n",
    "\n",
    "1. Each message consists of English words in ASCII separated by spaces. No punctuation appears in the messages. \n",
    "\n",
    "2. Every character in the text is either a lowercase letter or a space, except that the first character of `m_1` is capitalized. The remaining words of `m_1` are lowercase, and all words in `m_2` are lowercase.\n",
    "\n",
    "3. The second message m_2 starts with a space.\n",
    "\n",
    "4. All of the words within each message is guaranteed to come from the set `words_lower` of the [100 most common English words](https://en.wikipedia.org/wiki/Most_common_words_in_English), except that the first message starts with a word in `words_upper`.\n",
    "\n",
    "There are two ways that you can solve this question:\n",
    "\n",
    "1. Write code yourself.\n",
    "2. Use the interactive two-time pad cracking tool at https://www.tausquared.net/pages/ctf/twotimepad.html\n",
    "\n",
    "__Test vector:__ To help you understand the question, here is a test vector:\n",
    "\n",
    "```\n",
    "q3_fulltwo_time_pad(b'3e21aa44d5319f099129e1859562eaeb26f558846e7dccbef7dd1a46e94d', b'5033b844dc318d4cd732fbc0d463e9b822b05892226c84bfeb8a4e4ce546')\n",
    "```\n",
    "\n",
    "should return `{'New day for all people how can we make the most of this time'}`.  In this test vector, note that:\n",
    "- message 1 is 'New day for all people how can',\n",
    "- message 2 is ' we make the most of this time',\n",
    "- each message is 30 bytes long, and\n",
    "- the first message starts with an uppercase letter, and the second message starts with a space.\n",
    "\n",
    "Before writing any code, try using the interactive two-time pad cracking tool to find this message. Copy/paste the two hex ciphertexts, then guess \"New\" for the start of the first message and \" we\" for the start of the second message. Note how the cracking tool shows that they match. As you add a new word to each message, it shows possible candidates for the word on the other message.\n",
    "\n",
    "__Your response:__"
   ]
  },
  {
   "cell_type": "markdown",
   "metadata": {},
   "source": [
    "I tried to code the answer to Q3, but I found it too hard and finally decided to hardcode the response. This is how I did it: I chose a capitalized word from the list to start deciphering m1, selecting one that might uncover more letters in m2 due to its length. For m2, which I knew started with a space, I began with the word \"you.\" After applying \"After,\" it became evident there wasn't a subsequent word in the list beginning with \"c,\" simplifying the guesswork for the next word in m2, \"can.\" This technique, step by step, assisted in putting together the phrases \"After all this time\" for m1 and \"you can see me now\" for m2."
   ]
  },
  {
   "cell_type": "code",
   "execution_count": 40,
   "metadata": {
    "tags": []
   },
   "outputs": [],
   "source": [
    "def q3_full_two_time_pad(c1_hex, c2_hex) -> set:\n",
    "    ''' Input: Two hex-encoded ciphertexts c1_hex and c2_hex\n",
    "        Return: Up to 100 possible m1 + m2 combinations of possible plaintext messages.\n",
    "                Since m2 already starts with a space in this question,\n",
    "                do *not* add an additional space in between m1 and m2.\n",
    "    '''\n",
    "\n",
    "    c1 = unhexlify(c1_hex)\n",
    "    c2 = unhexlify(c2_hex)\n",
    "    c = strxor(c1, c2)\n",
    "    \n",
    "    return {b'After all this time you can see me now'}"
   ]
  },
  {
   "cell_type": "code",
   "execution_count": 29,
   "metadata": {},
   "outputs": [],
   "source": [
    "'''from binascii import unhexlify\n",
    "from itertools import product\n",
    "\n",
    "# Helper functions\n",
    "def is_valid_string(byte_str):\n",
    "    segments = byte_str.strip().split(b' ')\n",
    "    if byte_str[0:1] == b' ':\n",
    "        return all(any(word.startswith(seg) for word in words_lower) for seg in segments)\n",
    "    else:\n",
    "        return segments[0] in words_upper and all(any(word.startswith(seg) for word in words_lower) for seg in segments[1:])\n",
    "\n",
    "def filter_valid_strings(byte_str_list):\n",
    "    return [byte_str for byte_str in byte_str_list if is_valid_string(byte_str)]\n",
    "\n",
    "def q3_full_two_time_pad(hex_c1, hex_c2):\n",
    "    bytes_c1 = unhexlify(hex_c1)\n",
    "    bytes_c2 = unhexlify(hex_c2)\n",
    "    candidate_first_word = []\n",
    "    potential_decryptions_c1 = []\n",
    "    potential_decryptions_c2 = []\n",
    "    xor_result = bytes(b1 ^ b2 for b1, b2 in zip(bytes_c1, bytes_c2))\n",
    "    \n",
    "    # Identify potential starting words\n",
    "    initial_c1_letter = xor_result[0] ^ ord(' ')\n",
    "    for possible_word in words_upper:\n",
    "        if possible_word.startswith(bytes([initial_c1_letter])):\n",
    "            candidate_first_word.append(possible_word)\n",
    "    \n",
    "    # Attempt to decode the beginning of c2\n",
    "    for word in candidate_first_word:\n",
    "        word_plus_space = word + b' '\n",
    "        xor_with_candidate_word = xor_result[:len(word_plus_space)]\n",
    "        start_of_c2 = bytes([x ^ y for x, y in zip(xor_with_candidate_word, word_plus_space)])\n",
    "        if all(chr(c).isalpha() or chr(c).isspace() for c in start_of_c2):\n",
    "            potential_decryptions_c2.append(start_of_c2)\n",
    "            potential_decryptions_c1.append(word)\n",
    "    \n",
    "    # Process each candidate decryption pair\n",
    "    for index, (decryption_c1, start_c2) in enumerate(zip(potential_decryptions_c1, potential_decryptions_c2)):\n",
    "        if chr(start_c2[-1]).isalpha():\n",
    "            trailing_char = chr(start_c2[-1])\n",
    "            possible_following_words = [word for word in words_lower if word.startswith(bytes(trailing_char, 'ascii'))]\n",
    "            for word in possible_following_words:\n",
    "                combined_c2 = start_c2[:-1] + word + b' '\n",
    "                combined_xor = xor_result[:len(combined_c2)]\n",
    "                resultant_c1 = bytes([b1 ^ b2 for b1, b2 in zip(combined_xor, combined_c2)])\n",
    "                if resultant_c1.startswith(decryption_c1) and all(chr(c).isalpha() or chr(c).isspace() for c in resultant_c1):\n",
    "                    potential_decryptions_c1[index] = resultant_c1\n",
    "                    potential_decryptions_c2[index] = combined_c2\n",
    "        \n",
    "        if chr(start_c2[-1]).isspace():\n",
    "            # Consider possible letters that can extend the current partial decryption of c2\n",
    "            for next_char in (bytes([i]) for i in range(ord('a'), ord('z') + 1)):\n",
    "                # Check the next character in the XOR result to potentially extend c1\n",
    "                next_xor_char = xor_result[len(start_c2)]\n",
    "                next_c1_char = next_xor_char ^ next_char[0]\n",
    "                if chr(next_c1_char).isalpha():\n",
    "                    # Check for words that begin with this letter\n",
    "                    for possible_word in words_lower:\n",
    "                        if possible_word.startswith(next_char):\n",
    "                            # Construct a possible continuation of c2 and its corresponding c1\n",
    "                            extended_c2 = start_c2 + possible_word + b' '\n",
    "                            # XOR with the current guess to get the next part of c1\n",
    "                            extended_xor_with_word = xor_result[:len(extended_c2)]\n",
    "                            next_part_c1 = bytes([b ^ w for b, w in zip(extended_xor_with_word, extended_c2)])\n",
    "                            # Check if the new part of c1 forms a valid word or prefix\n",
    "                            if next_part_c1.startswith(decryption_c1) and is_valid_string(next_part_c1):\n",
    "                                potential_decryptions_c1[index] = next_part_c1\n",
    "                                potential_decryptions_c2[index] = extended_c2\n",
    "\n",
    "    \n",
    "    # Combine the valid decryptions and return\n",
    "    valid_c1_decryptions = filter_valid_strings(potential_decryptions_c1)\n",
    "    valid_c2_decryptions = filter_valid_strings(potential_decryptions_c2)\n",
    "    combined_valid_decryptions = set()\n",
    "    for decrypt_c1, decrypt_c2 in zip(valid_c1_decryptions, valid_c2_decryptions):\n",
    "        combined_valid_decryptions.add(decrypt_c1 + decrypt_c2)\n",
    "\n",
    "    return combined_valid_decryptions'''"
   ]
  },
  {
   "cell_type": "code",
   "execution_count": 41,
   "metadata": {},
   "outputs": [
    {
     "data": {
      "text/plain": [
       "{b'After all this time you can see me now'}"
      ]
     },
     "execution_count": 41,
     "metadata": {},
     "output_type": "execute_result"
    }
   ],
   "source": [
    "q3_full_two_time_pad(b'3e21aa44d5319f099129e1859562eaeb26f558846e7dccbef7dd1a46e94d',\n",
    "                                                b'5033b844dc318d4cd732fbc0d463e9b822b05892226c84bfeb8a4e4ce546')"
   ]
  },
  {
   "cell_type": "markdown",
   "metadata": {
    "deletable": false,
    "editable": false
   },
   "source": [
    "You can try to test out your code on the test vector that we provided above."
   ]
  },
  {
   "cell_type": "code",
   "execution_count": 42,
   "metadata": {
    "deletable": false,
    "editable": false
   },
   "outputs": [
    {
     "data": {
      "text/plain": [
       "False"
      ]
     },
     "execution_count": 42,
     "metadata": {},
     "output_type": "execute_result"
    }
   ],
   "source": [
    "def test3_0():\n",
    "    answerstring = b'New day for all people how can we make the most of this time'\n",
    "    return answerstring in q3_full_two_time_pad(b'3e21aa44d5319f099129e1859562eaeb26f558846e7dccbef7dd1a46e94d',\n",
    "                                                b'5033b844dc318d4cd732fbc0d463e9b822b05892226c84bfeb8a4e4ce546')\n",
    "test3_0()"
   ]
  },
  {
   "cell_type": "markdown",
   "metadata": {
    "deletable": false,
    "editable": false
   },
   "source": [
    "We provide two tests for this question, each one of which is worth 1 point.\n",
    "\n",
    "- You will earn one point for solving the following two-time-pad challenge.\n",
    "    - `m1 = b'5a2e8da8d55eb6b738139bda26471b26f5fa4f'`\n",
    "    - `m2 = b'3b3196b8871db6b574408ad76f595e72f2f85d'`\n",
    "- You will earn another point if your code works on arbitrary ciphertext pairs.\n",
    "\n",
    "You can hardcode the answer in the function `q3_full_two_time_pad` if you want to receive only one point for this question. Even if you choose this option, make sure to show your work and explain how you found the answer!\n",
    "\n",
    "_Points:_ 2"
   ]
  },
  {
   "cell_type": "code",
   "execution_count": 43,
   "metadata": {
    "deletable": false,
    "editable": false
   },
   "outputs": [
    {
     "data": {
      "text/html": [
       "<p><strong style='color: red;'><pre style='display: inline;'>q3</pre> results:</strong></p><p><strong><pre style='display: inline;'>q3 - 1</pre> result:</strong></p><pre>    ✅ Test case passed</pre><p><strong><pre style='display: inline;'>q3 - 2</pre> result:</strong></p><pre>    ❌ Test case failed\n",
       "    Trying:\n",
       "        from binascii import hexlify\n",
       "    Expecting nothing\n",
       "    ok\n",
       "    Trying:\n",
       "        import random\n",
       "    Expecting nothing\n",
       "    ok\n",
       "    Trying:\n",
       "        from os import urandom\n",
       "    Expecting nothing\n",
       "    ok\n",
       "    Trying:\n",
       "        def one_time_pad(bytesMessage, bytesKey):\n",
       "            \"\"\" If both the message and key are of type string and have the same length,\n",
       "                then takes their strxor and returns the corresponding ciphertext.\n",
       "            \"\"\"\n",
       "            assert type(bytesMessage) == bytes\n",
       "            assert type(bytesKey) == bytes\n",
       "            assert len(bytesMessage) == len(bytesKey)\n",
       "            return strxor(bytesMessage, bytesKey)\n",
       "    Expecting nothing\n",
       "    ok\n",
       "    Trying:\n",
       "        def generate_n_char_sentence(n, words, isBlank=False):\n",
       "            if isBlank:\n",
       "                cap = n - 1\n",
       "            else:\n",
       "                cap = n\n",
       "            while True:\n",
       "                sentence = ''\n",
       "                while len(sentence) < cap:\n",
       "                    word = random.choice(words)\n",
       "                    if len(sentence) + len(word) + (1 if sentence else 0) <= cap:\n",
       "                        sentence += (' ' if sentence else '') + word\n",
       "                    else:\n",
       "                        break\n",
       "                if len(sentence) == cap:\n",
       "                    if isBlank:\n",
       "                        return ' ' + sentence\n",
       "                    return sentence\n",
       "    Expecting nothing\n",
       "    ok\n",
       "    Trying:\n",
       "        def test3_2():\n",
       "            words = 'a about after all also an and any as at back be because but by can\\n    come could day do even first for from get give go good have he her him his how\\n    i if in into it its just know like look make me most my new no not now of on\\n    one only or other our out over people say see she so some take than that the\\n    their them then there these they think this time to two up us use want way we\\n    well what when which who will with work would year you your'.split()\n",
       "            cnt = 0\n",
       "            total_length = 16\n",
       "            total_count = 10\n",
       "            for i in range(total_count):\n",
       "                m1 = generate_n_char_sentence(total_length, words, False).capitalize().encode('ascii')\n",
       "                m2 = generate_n_char_sentence(total_length, words, True).encode('ascii')\n",
       "                tempkey = urandom(total_length)\n",
       "                c1_hex = hexlify(one_time_pad(m1, tempkey))\n",
       "                c2_hex = hexlify(one_time_pad(m2, tempkey))\n",
       "                theset = q3_full_two_time_pad(c1_hex, c2_hex)\n",
       "                if m1 + m2 in theset and len(theset) <= 100:\n",
       "                    cnt += 1\n",
       "                else:\n",
       "                    print('Failed test on ciphertexts:', c1_hex, 'and', c2_hex, 'expected to see m1 =', m1, 'and m2 =', m2)\n",
       "            return cnt / total_count >= 0.8\n",
       "    Expecting nothing\n",
       "    ok\n",
       "    Trying:\n",
       "        test3_2()\n",
       "    Expecting:\n",
       "        True\n",
       "    **********************************************************************\n",
       "    Line 49, in q3 1\n",
       "    Failed example:\n",
       "        test3_2()\n",
       "    Expected:\n",
       "        True\n",
       "    Got:\n",
       "        Failed test on ciphertexts: b'062cb2b922aff5e199ab0304f13fae94' and b'7534a4ec31e1eea4d1a50704f539b594' expected to see m1 = b'Say any how come' and m2 = b' your be as give'\n",
       "        Failed test on ciphertexts: b'31a60a31549157e1d8adeca36ae11899' and b'46a1193a06c54af38ce3f0e27fae039d' expected to see m1 = b'When that say to' and m2 = b' over us no look'\n",
       "        Failed test on ciphertexts: b'0df4ad739245c14aa957b29f51aac7e4' and b'60e0ec719945c24ae644fd824ee2d1f9' expected to see m1 = b'My in do work so' and m2 = b' make good other'\n",
       "        Failed test on ciphertexts: b'485f92a85c0ac871568525f98b8f4184' and b'2752dda45f5ec0621d8760fac48f5e85' expected to see m1 = b'On after get use' and m2 = b' come make would'\n",
       "        Failed test on ciphertexts: b'7cf1f0f480462def08dd500fe4c4f351' and b'0bfafaefcc4b79bb06d74b5da1c1f35a' expected to see m1 = b'When it for even' and m2 = b' could their see'\n",
       "        Failed test on ciphertexts: b'13b7b7899f5d92335f497bb876cdea53' and b'77baeedd964bc039094168f37b8cfe4f' expected to see m1 = b'Do there make by' and m2 = b' by as over have'\n",
       "        Failed test on ciphertexts: b'a63f453967c81b585d044d564796ae00' and b'd13c593e66c802565004435013d9b40a' expected to see m1 = b'Would way out to' and m2 = b' like not as one'\n",
       "        Failed test on ciphertexts: b'4c7d94f0b839fa25cc152a8ef5d05c92' and b'357193a2f73ea967c15d3f85bad44798' expected to see m1 = b'Year as then two' and m2 = b' if of by people'\n",
       "        Failed test on ciphertexts: b'7a53fb902816a16c0dec9cfd397b9734' and b'194bfe9c6b11f46944ed95fd2175933a' expected to see m1 = b'Come our me look' and m2 = b' which will take'\n",
       "        Failed test on ciphertexts: b'd9e7521ebfb0661a9d47983a300fa760' and b'b1fc4d57bcba2d10cb56827b2a47ac6a' expected to see m1 = b'How make than by' and m2 = b' think over this'\n",
       "        False\n",
       "</pre>"
      ],
      "text/plain": [
       "q3 results:\n",
       "    q3 - 1 result:\n",
       "        ✅ Test case passed\n",
       "\n",
       "    q3 - 2 result:\n",
       "        ❌ Test case failed\n",
       "        Trying:\n",
       "            from binascii import hexlify\n",
       "        Expecting nothing\n",
       "        ok\n",
       "        Trying:\n",
       "            import random\n",
       "        Expecting nothing\n",
       "        ok\n",
       "        Trying:\n",
       "            from os import urandom\n",
       "        Expecting nothing\n",
       "        ok\n",
       "        Trying:\n",
       "            def one_time_pad(bytesMessage, bytesKey):\n",
       "                \"\"\" If both the message and key are of type string and have the same length,\n",
       "                    then takes their strxor and returns the corresponding ciphertext.\n",
       "                \"\"\"\n",
       "                assert type(bytesMessage) == bytes\n",
       "                assert type(bytesKey) == bytes\n",
       "                assert len(bytesMessage) == len(bytesKey)\n",
       "                return strxor(bytesMessage, bytesKey)\n",
       "        Expecting nothing\n",
       "        ok\n",
       "        Trying:\n",
       "            def generate_n_char_sentence(n, words, isBlank=False):\n",
       "                if isBlank:\n",
       "                    cap = n - 1\n",
       "                else:\n",
       "                    cap = n\n",
       "                while True:\n",
       "                    sentence = ''\n",
       "                    while len(sentence) < cap:\n",
       "                        word = random.choice(words)\n",
       "                        if len(sentence) + len(word) + (1 if sentence else 0) <= cap:\n",
       "                            sentence += (' ' if sentence else '') + word\n",
       "                        else:\n",
       "                            break\n",
       "                    if len(sentence) == cap:\n",
       "                        if isBlank:\n",
       "                            return ' ' + sentence\n",
       "                        return sentence\n",
       "        Expecting nothing\n",
       "        ok\n",
       "        Trying:\n",
       "            def test3_2():\n",
       "                words = 'a about after all also an and any as at back be because but by can\\n    come could day do even first for from get give go good have he her him his how\\n    i if in into it its just know like look make me most my new no not now of on\\n    one only or other our out over people say see she so some take than that the\\n    their them then there these they think this time to two up us use want way we\\n    well what when which who will with work would year you your'.split()\n",
       "                cnt = 0\n",
       "                total_length = 16\n",
       "                total_count = 10\n",
       "                for i in range(total_count):\n",
       "                    m1 = generate_n_char_sentence(total_length, words, False).capitalize().encode('ascii')\n",
       "                    m2 = generate_n_char_sentence(total_length, words, True).encode('ascii')\n",
       "                    tempkey = urandom(total_length)\n",
       "                    c1_hex = hexlify(one_time_pad(m1, tempkey))\n",
       "                    c2_hex = hexlify(one_time_pad(m2, tempkey))\n",
       "                    theset = q3_full_two_time_pad(c1_hex, c2_hex)\n",
       "                    if m1 + m2 in theset and len(theset) <= 100:\n",
       "                        cnt += 1\n",
       "                    else:\n",
       "                        print('Failed test on ciphertexts:', c1_hex, 'and', c2_hex, 'expected to see m1 =', m1, 'and m2 =', m2)\n",
       "                return cnt / total_count >= 0.8\n",
       "        Expecting nothing\n",
       "        ok\n",
       "        Trying:\n",
       "            test3_2()\n",
       "        Expecting:\n",
       "            True\n",
       "        **********************************************************************\n",
       "        Line 49, in q3 1\n",
       "        Failed example:\n",
       "            test3_2()\n",
       "        Expected:\n",
       "            True\n",
       "        Got:\n",
       "            Failed test on ciphertexts: b'062cb2b922aff5e199ab0304f13fae94' and b'7534a4ec31e1eea4d1a50704f539b594' expected to see m1 = b'Say any how come' and m2 = b' your be as give'\n",
       "            Failed test on ciphertexts: b'31a60a31549157e1d8adeca36ae11899' and b'46a1193a06c54af38ce3f0e27fae039d' expected to see m1 = b'When that say to' and m2 = b' over us no look'\n",
       "            Failed test on ciphertexts: b'0df4ad739245c14aa957b29f51aac7e4' and b'60e0ec719945c24ae644fd824ee2d1f9' expected to see m1 = b'My in do work so' and m2 = b' make good other'\n",
       "            Failed test on ciphertexts: b'485f92a85c0ac871568525f98b8f4184' and b'2752dda45f5ec0621d8760fac48f5e85' expected to see m1 = b'On after get use' and m2 = b' come make would'\n",
       "            Failed test on ciphertexts: b'7cf1f0f480462def08dd500fe4c4f351' and b'0bfafaefcc4b79bb06d74b5da1c1f35a' expected to see m1 = b'When it for even' and m2 = b' could their see'\n",
       "            Failed test on ciphertexts: b'13b7b7899f5d92335f497bb876cdea53' and b'77baeedd964bc039094168f37b8cfe4f' expected to see m1 = b'Do there make by' and m2 = b' by as over have'\n",
       "            Failed test on ciphertexts: b'a63f453967c81b585d044d564796ae00' and b'd13c593e66c802565004435013d9b40a' expected to see m1 = b'Would way out to' and m2 = b' like not as one'\n",
       "            Failed test on ciphertexts: b'4c7d94f0b839fa25cc152a8ef5d05c92' and b'357193a2f73ea967c15d3f85bad44798' expected to see m1 = b'Year as then two' and m2 = b' if of by people'\n",
       "            Failed test on ciphertexts: b'7a53fb902816a16c0dec9cfd397b9734' and b'194bfe9c6b11f46944ed95fd2175933a' expected to see m1 = b'Come our me look' and m2 = b' which will take'\n",
       "            Failed test on ciphertexts: b'd9e7521ebfb0661a9d47983a300fa760' and b'b1fc4d57bcba2d10cb56827b2a47ac6a' expected to see m1 = b'How make than by' and m2 = b' think over this'\n",
       "            False"
      ]
     },
     "execution_count": 43,
     "metadata": {},
     "output_type": "execute_result"
    }
   ],
   "source": [
    "grader.check(\"q3\")"
   ]
  },
  {
   "cell_type": "markdown",
   "metadata": {},
   "source": [
    "## Submitting the Assignment\n",
    "\n",
    "Please follow these instructions to complete the assignment and submit it for credit.\n",
    "\n",
    "**Documenting collaborators, sources, and AI tools:** In accordance with the collaboration policy, use the space below to report if you used any resources to complete this homework assignment, aside from the lecture notes and the course textbooks/videos. Specifically, please report:\n",
    "\n",
    "1. Names of all classmates you worked with, and a short description of the work that you performed together.\n",
    "2. All written materials that you used, such as books or websites (besides the lecture notes or textbooks). Please include links to any web-based resources, or citations to any physical works.\n",
    "3. All code that you used from other sources. In particular, if you used an AI tool, then you must include the entire exchange with the AI tool, as per the [CDS Generative AI Assistance Policy](https://www.bu.edu/cds-faculty/culture-community/gaia-policy/).\n",
    "\n",
    "Remember that if we discover any undocumented collaborators, sources, or AI tools then this is grounds for a grade penalty and referral to BU's Academic Conduct Committee (as described in the syllabus)."
   ]
  },
  {
   "cell_type": "markdown",
   "metadata": {},
   "source": [
    "_Your response:_\n",
    "\n",
    "1. I went to office hours and got help from the TA to get started with Q3, and also got ideas from other classmates that were there. I tried to then code Q3 myself but it was too confusing, so I used the help of GenAI to formulate it. I finally managed to make it partially work but it was not enough to pass the test, so I eventually decided to hard code it.\n",
    "\n",
    "2. N/A\n",
    "\n",
    "3. N/A"
   ]
  },
  {
   "cell_type": "markdown",
   "metadata": {},
   "source": [
    "**Sending to Gradescope:** After completing the assignment:\n",
    "- if you did the assignment on Colab, download it in `.ipynb` format.\n",
    "- if you did the assignment locally on your machine, all you need to do is to find it in your directory.\n",
    "\n",
    "Then, submit only the `.ipynb` file to this week's programming assignment on Gradescope. It may take a few seconds or a minute for the auto-grading system to check your work.\n",
    "\n",
    "Remember that you can submit as many times as you want until the deadline for the assignment; only your last score counts."
   ]
  },
  {
   "cell_type": "markdown",
   "metadata": {
    "deletable": false,
    "editable": false
   },
   "source": [
    "## Submission\n",
    "\n",
    "Make sure you have run all cells in your notebook in order before running the cell below, so that all images/graphs appear in the output. The cell below will generate a zip file for you to submit. **Please save before exporting!**\n",
    "\n",
    "Submit your assignment on Gradescope once you have passed enough tests to receive at least 4 of the 5 available points."
   ]
  },
  {
   "cell_type": "code",
   "execution_count": 19,
   "metadata": {
    "deletable": false,
    "editable": false
   },
   "outputs": [
    {
     "name": "stderr",
     "output_type": "stream",
     "text": [
      "/Library/Frameworks/Python.framework/Versions/3.12/lib/python3.12/site-packages/otter/check/notebook.py:470: UserWarning: Could not locate a PDF to include\n",
      "  warnings.warn(\"Could not locate a PDF to include\")\n"
     ]
    },
    {
     "ename": "AttributeError",
     "evalue": "module 'nbconvert' has no attribute 'pdf'",
     "output_type": "error",
     "traceback": [
      "\u001b[0;31m---------------------------------------------------------------------------\u001b[0m",
      "\u001b[0;31mLatexFailed\u001b[0m                               Traceback (most recent call last)",
      "File \u001b[0;32m/Library/Frameworks/Python.framework/Versions/3.12/lib/python3.12/site-packages/otter/export/exporters/via_latex.py:66\u001b[0m, in \u001b[0;36mPDFViaLatexExporter.convert_notebook\u001b[0;34m(cls, nb_path, dest, xecjk, **kwargs)\u001b[0m\n\u001b[1;32m     64\u001b[0m         output_file\u001b[38;5;241m.\u001b[39mwrite(latex_output[\u001b[38;5;241m0\u001b[39m])\n\u001b[0;32m---> 66\u001b[0m pdf_output \u001b[38;5;241m=\u001b[39m \u001b[43mnbconvert\u001b[49m\u001b[38;5;241;43m.\u001b[39;49m\u001b[43mexport\u001b[49m\u001b[43m(\u001b[49m\u001b[43mpdf_exporter\u001b[49m\u001b[43m,\u001b[49m\u001b[43m \u001b[49m\u001b[43mnb\u001b[49m\u001b[43m)\u001b[49m\n\u001b[1;32m     67\u001b[0m \u001b[38;5;28;01mwith\u001b[39;00m \u001b[38;5;28mopen\u001b[39m(dest, \u001b[38;5;124m\"\u001b[39m\u001b[38;5;124mwb\u001b[39m\u001b[38;5;124m\"\u001b[39m) \u001b[38;5;28;01mas\u001b[39;00m output_file:\n",
      "File \u001b[0;32m/Library/Frameworks/Python.framework/Versions/3.12/lib/python3.12/site-packages/nbconvert/exporters/base.py:86\u001b[0m, in \u001b[0;36mexport\u001b[0;34m(exporter, nb, **kw)\u001b[0m\n\u001b[1;32m     85\u001b[0m \u001b[38;5;28;01mif\u001b[39;00m \u001b[38;5;28misinstance\u001b[39m(nb, NotebookNode):\n\u001b[0;32m---> 86\u001b[0m     output, resources \u001b[38;5;241m=\u001b[39m \u001b[43mexporter_instance\u001b[49m\u001b[38;5;241;43m.\u001b[39;49m\u001b[43mfrom_notebook_node\u001b[49m\u001b[43m(\u001b[49m\u001b[43mnb\u001b[49m\u001b[43m,\u001b[49m\u001b[43m \u001b[49m\u001b[43mresources\u001b[49m\u001b[43m)\u001b[49m\n\u001b[1;32m     87\u001b[0m \u001b[38;5;28;01melif\u001b[39;00m \u001b[38;5;28misinstance\u001b[39m(nb, (\u001b[38;5;28mstr\u001b[39m,)):\n",
      "File \u001b[0;32m/Library/Frameworks/Python.framework/Versions/3.12/lib/python3.12/site-packages/nbconvert/exporters/pdf.py:203\u001b[0m, in \u001b[0;36mPDFExporter.from_notebook_node\u001b[0;34m(self, nb, resources, **kw)\u001b[0m\n\u001b[1;32m    202\u001b[0m \u001b[38;5;28;01mif\u001b[39;00m \u001b[38;5;129;01mnot\u001b[39;00m os\u001b[38;5;241m.\u001b[39mpath\u001b[38;5;241m.\u001b[39misfile(pdf_file):\n\u001b[0;32m--> 203\u001b[0m     \u001b[38;5;28;01mraise\u001b[39;00m LatexFailed(\u001b[38;5;124m\"\u001b[39m\u001b[38;5;130;01m\\n\u001b[39;00m\u001b[38;5;124m\"\u001b[39m\u001b[38;5;241m.\u001b[39mjoin(\u001b[38;5;28mself\u001b[39m\u001b[38;5;241m.\u001b[39m_captured_output))\n\u001b[1;32m    204\u001b[0m \u001b[38;5;28mself\u001b[39m\u001b[38;5;241m.\u001b[39mlog\u001b[38;5;241m.\u001b[39minfo(\u001b[38;5;124m\"\u001b[39m\u001b[38;5;124mPDF successfully created\u001b[39m\u001b[38;5;124m\"\u001b[39m)\n",
      "\u001b[0;31mLatexFailed\u001b[0m: PDF creating failed, captured latex output:\nThis is BibTeX, Version 0.99d (TeX Live 2023)\nThe top-level auxiliary file: notebook.aux\nI found no \\citation commands---while reading file notebook.aux\nI found no \\bibdata command---while reading file notebook.aux\nI found no \\bibstyle command---while reading file notebook.aux\n(There were 3 error messages)\n",
      "\nDuring handling of the above exception, another exception occurred:\n",
      "\u001b[0;31mAttributeError\u001b[0m                            Traceback (most recent call last)",
      "Cell \u001b[0;32mIn[19], line 2\u001b[0m\n\u001b[1;32m      1\u001b[0m \u001b[38;5;66;03m# Save your notebook first, then run this cell to export your submission.\u001b[39;00m\n\u001b[0;32m----> 2\u001b[0m \u001b[43mgrader\u001b[49m\u001b[38;5;241;43m.\u001b[39;49m\u001b[43mexport\u001b[49m\u001b[43m(\u001b[49m\u001b[43mrun_tests\u001b[49m\u001b[38;5;241;43m=\u001b[39;49m\u001b[38;5;28;43;01mTrue\u001b[39;49;00m\u001b[43m)\u001b[49m\n",
      "File \u001b[0;32m/Library/Frameworks/Python.framework/Versions/3.12/lib/python3.12/site-packages/otter/check/utils.py:184\u001b[0m, in \u001b[0;36mgrading_mode_disabled\u001b[0;34m(wrapped, self, args, kwargs)\u001b[0m\n\u001b[1;32m    182\u001b[0m \u001b[38;5;28;01mif\u001b[39;00m \u001b[38;5;28mtype\u001b[39m(\u001b[38;5;28mself\u001b[39m)\u001b[38;5;241m.\u001b[39m_grading_mode:\n\u001b[1;32m    183\u001b[0m     \u001b[38;5;28;01mreturn\u001b[39;00m\n\u001b[0;32m--> 184\u001b[0m \u001b[38;5;28;01mreturn\u001b[39;00m \u001b[43mwrapped\u001b[49m\u001b[43m(\u001b[49m\u001b[38;5;241;43m*\u001b[39;49m\u001b[43margs\u001b[49m\u001b[43m,\u001b[49m\u001b[43m \u001b[49m\u001b[38;5;241;43m*\u001b[39;49m\u001b[38;5;241;43m*\u001b[39;49m\u001b[43mkwargs\u001b[49m\u001b[43m)\u001b[49m\n",
      "File \u001b[0;32m/Library/Frameworks/Python.framework/Versions/3.12/lib/python3.12/site-packages/otter/check/utils.py:166\u001b[0m, in \u001b[0;36mincompatible_with.<locals>.incompatible\u001b[0;34m(wrapped, self, args, kwargs)\u001b[0m\n\u001b[1;32m    164\u001b[0m     \u001b[38;5;28;01melse\u001b[39;00m:\n\u001b[1;32m    165\u001b[0m         \u001b[38;5;28;01mreturn\u001b[39;00m\n\u001b[0;32m--> 166\u001b[0m \u001b[38;5;28;01mreturn\u001b[39;00m \u001b[43mwrapped\u001b[49m\u001b[43m(\u001b[49m\u001b[38;5;241;43m*\u001b[39;49m\u001b[43margs\u001b[49m\u001b[43m,\u001b[49m\u001b[43m \u001b[49m\u001b[38;5;241;43m*\u001b[39;49m\u001b[38;5;241;43m*\u001b[39;49m\u001b[43mkwargs\u001b[49m\u001b[43m)\u001b[49m\n",
      "File \u001b[0;32m/Library/Frameworks/Python.framework/Versions/3.12/lib/python3.12/site-packages/otter/check/utils.py:217\u001b[0m, in \u001b[0;36mlogs_event.<locals>.event_logger\u001b[0;34m(wrapped, self, args, kwargs)\u001b[0m\n\u001b[1;32m    215\u001b[0m \u001b[38;5;28;01mexcept\u001b[39;00m \u001b[38;5;167;01mException\u001b[39;00m \u001b[38;5;28;01mas\u001b[39;00m e:\n\u001b[1;32m    216\u001b[0m     \u001b[38;5;28mself\u001b[39m\u001b[38;5;241m.\u001b[39m_log_event(event_type, success\u001b[38;5;241m=\u001b[39m\u001b[38;5;28;01mFalse\u001b[39;00m, error\u001b[38;5;241m=\u001b[39me)\n\u001b[0;32m--> 217\u001b[0m     \u001b[38;5;28;01mraise\u001b[39;00m e\n\u001b[1;32m    219\u001b[0m \u001b[38;5;28;01mif\u001b[39;00m ret \u001b[38;5;129;01mis\u001b[39;00m \u001b[38;5;28;01mNone\u001b[39;00m:\n\u001b[1;32m    220\u001b[0m     ret \u001b[38;5;241m=\u001b[39m LoggedEventReturnValue(\u001b[38;5;28;01mNone\u001b[39;00m)\n",
      "File \u001b[0;32m/Library/Frameworks/Python.framework/Versions/3.12/lib/python3.12/site-packages/otter/check/utils.py:213\u001b[0m, in \u001b[0;36mlogs_event.<locals>.event_logger\u001b[0;34m(wrapped, self, args, kwargs)\u001b[0m\n\u001b[1;32m    208\u001b[0m \u001b[38;5;250m\u001b[39m\u001b[38;5;124;03m\"\"\"\u001b[39;00m\n\u001b[1;32m    209\u001b[0m \u001b[38;5;124;03mRuns a method, catching any errors and logging the call. Returns the unwrapped return value\u001b[39;00m\n\u001b[1;32m    210\u001b[0m \u001b[38;5;124;03mof the wrapped function.\u001b[39;00m\n\u001b[1;32m    211\u001b[0m \u001b[38;5;124;03m\"\"\"\u001b[39;00m\n\u001b[1;32m    212\u001b[0m \u001b[38;5;28;01mtry\u001b[39;00m:\n\u001b[0;32m--> 213\u001b[0m     ret: Optional[LoggedEventReturnValue[T]] \u001b[38;5;241m=\u001b[39m \u001b[43mwrapped\u001b[49m\u001b[43m(\u001b[49m\u001b[38;5;241;43m*\u001b[39;49m\u001b[43margs\u001b[49m\u001b[43m,\u001b[49m\u001b[43m \u001b[49m\u001b[38;5;241;43m*\u001b[39;49m\u001b[38;5;241;43m*\u001b[39;49m\u001b[43mkwargs\u001b[49m\u001b[43m)\u001b[49m\n\u001b[1;32m    215\u001b[0m \u001b[38;5;28;01mexcept\u001b[39;00m \u001b[38;5;167;01mException\u001b[39;00m \u001b[38;5;28;01mas\u001b[39;00m e:\n\u001b[1;32m    216\u001b[0m     \u001b[38;5;28mself\u001b[39m\u001b[38;5;241m.\u001b[39m_log_event(event_type, success\u001b[38;5;241m=\u001b[39m\u001b[38;5;28;01mFalse\u001b[39;00m, error\u001b[38;5;241m=\u001b[39me)\n",
      "File \u001b[0;32m/Library/Frameworks/Python.framework/Versions/3.12/lib/python3.12/site-packages/otter/check/notebook.py:525\u001b[0m, in \u001b[0;36mNotebook.export\u001b[0;34m(self, nb_path, export_path, pdf, filtering, pagebreaks, files, display_link, force_save, run_tests)\u001b[0m\n\u001b[1;32m    523\u001b[0m \u001b[38;5;28;01mif\u001b[39;00m pdf_created \u001b[38;5;129;01mor\u001b[39;00m \u001b[38;5;129;01mnot\u001b[39;00m \u001b[38;5;28mself\u001b[39m\u001b[38;5;241m.\u001b[39m_nbmeta_config\u001b[38;5;241m.\u001b[39mrequire_no_pdf_confirmation:\n\u001b[1;32m    524\u001b[0m     \u001b[38;5;28;01mif\u001b[39;00m pdf_error \u001b[38;5;129;01mis\u001b[39;00m \u001b[38;5;129;01mnot\u001b[39;00m \u001b[38;5;28;01mNone\u001b[39;00m:\n\u001b[0;32m--> 525\u001b[0m         \u001b[38;5;28;01mraise\u001b[39;00m pdf_error\n\u001b[1;32m    526\u001b[0m     continue_export()\n\u001b[1;32m    527\u001b[0m \u001b[38;5;28;01melse\u001b[39;00m:\n",
      "File \u001b[0;32m/Library/Frameworks/Python.framework/Versions/3.12/lib/python3.12/site-packages/otter/check/notebook.py:462\u001b[0m, in \u001b[0;36mNotebook.export\u001b[0;34m(self, nb_path, export_path, pdf, filtering, pagebreaks, files, display_link, force_save, run_tests)\u001b[0m\n\u001b[1;32m    460\u001b[0m pdf_path, pdf_created, pdf_error \u001b[38;5;241m=\u001b[39m \u001b[38;5;28;01mNone\u001b[39;00m, \u001b[38;5;28;01mTrue\u001b[39;00m, \u001b[38;5;28;01mNone\u001b[39;00m\n\u001b[1;32m    461\u001b[0m \u001b[38;5;28;01mif\u001b[39;00m pdf:\n\u001b[0;32m--> 462\u001b[0m     \u001b[38;5;28;01mtry\u001b[39;00m: pdf_path \u001b[38;5;241m=\u001b[39m \u001b[43mexport_notebook\u001b[49m\u001b[43m(\u001b[49m\u001b[43mnb_path\u001b[49m\u001b[43m,\u001b[49m\u001b[43m \u001b[49m\u001b[43mfiltering\u001b[49m\u001b[38;5;241;43m=\u001b[39;49m\u001b[43mfiltering\u001b[49m\u001b[43m,\u001b[49m\u001b[43m \u001b[49m\u001b[43mpagebreaks\u001b[49m\u001b[38;5;241;43m=\u001b[39;49m\u001b[43mpagebreaks\u001b[49m\u001b[43m)\u001b[49m\n\u001b[1;32m    463\u001b[0m     \u001b[38;5;28;01mexcept\u001b[39;00m \u001b[38;5;167;01mException\u001b[39;00m \u001b[38;5;28;01mas\u001b[39;00m e: pdf_error \u001b[38;5;241m=\u001b[39m e\n\u001b[1;32m    464\u001b[0m     \u001b[38;5;28;01mif\u001b[39;00m pdf_path \u001b[38;5;129;01mand\u001b[39;00m os\u001b[38;5;241m.\u001b[39mpath\u001b[38;5;241m.\u001b[39misfile(pdf_path):\n",
      "File \u001b[0;32m/Library/Frameworks/Python.framework/Versions/3.12/lib/python3.12/site-packages/otter/export/__init__.py:36\u001b[0m, in \u001b[0;36mexport_notebook\u001b[0;34m(nb_path, dest, exporter_type, **kwargs)\u001b[0m\n\u001b[1;32m     33\u001b[0m     pdf_name \u001b[38;5;241m=\u001b[39m os\u001b[38;5;241m.\u001b[39mpath\u001b[38;5;241m.\u001b[39msplitext(nb_path)[\u001b[38;5;241m0\u001b[39m] \u001b[38;5;241m+\u001b[39m \u001b[38;5;124m\"\u001b[39m\u001b[38;5;124m.pdf\u001b[39m\u001b[38;5;124m\"\u001b[39m\n\u001b[1;32m     35\u001b[0m Exporter \u001b[38;5;241m=\u001b[39m get_exporter(exporter_type\u001b[38;5;241m=\u001b[39mexporter_type)\n\u001b[0;32m---> 36\u001b[0m \u001b[43mExporter\u001b[49m\u001b[38;5;241;43m.\u001b[39;49m\u001b[43mconvert_notebook\u001b[49m\u001b[43m(\u001b[49m\u001b[43mnb_path\u001b[49m\u001b[43m,\u001b[49m\u001b[43m \u001b[49m\u001b[43mpdf_name\u001b[49m\u001b[43m,\u001b[49m\u001b[43m \u001b[49m\u001b[38;5;241;43m*\u001b[39;49m\u001b[38;5;241;43m*\u001b[39;49m\u001b[43mkwargs\u001b[49m\u001b[43m)\u001b[49m\n\u001b[1;32m     38\u001b[0m \u001b[38;5;28;01mreturn\u001b[39;00m pdf_name\n",
      "File \u001b[0;32m/Library/Frameworks/Python.framework/Versions/3.12/lib/python3.12/site-packages/otter/export/exporters/via_latex.py:70\u001b[0m, in \u001b[0;36mPDFViaLatexExporter.convert_notebook\u001b[0;34m(cls, nb_path, dest, xecjk, **kwargs)\u001b[0m\n\u001b[1;32m     67\u001b[0m     \u001b[38;5;28;01mwith\u001b[39;00m \u001b[38;5;28mopen\u001b[39m(dest, \u001b[38;5;124m\"\u001b[39m\u001b[38;5;124mwb\u001b[39m\u001b[38;5;124m\"\u001b[39m) \u001b[38;5;28;01mas\u001b[39;00m output_file:\n\u001b[1;32m     68\u001b[0m         output_file\u001b[38;5;241m.\u001b[39mwrite(pdf_output[\u001b[38;5;241m0\u001b[39m])\n\u001b[0;32m---> 70\u001b[0m \u001b[38;5;28;01mexcept\u001b[39;00m \u001b[43mnbconvert\u001b[49m\u001b[38;5;241;43m.\u001b[39;49m\u001b[43mpdf\u001b[49m\u001b[38;5;241m.\u001b[39mLatexFailed \u001b[38;5;28;01mas\u001b[39;00m error:\n\u001b[1;32m     71\u001b[0m     message \u001b[38;5;241m=\u001b[39m \u001b[38;5;124m\"\u001b[39m\u001b[38;5;124mThere was an error generating your LaTeX; showing full error message:\u001b[39m\u001b[38;5;130;01m\\n\u001b[39;00m\u001b[38;5;124m\"\u001b[39m\n\u001b[1;32m     72\u001b[0m     message \u001b[38;5;241m+\u001b[39m\u001b[38;5;241m=\u001b[39m indent(error\u001b[38;5;241m.\u001b[39moutput, \u001b[38;5;124m\"\u001b[39m\u001b[38;5;124m    \u001b[39m\u001b[38;5;124m\"\u001b[39m)\n",
      "\u001b[0;31mAttributeError\u001b[0m: module 'nbconvert' has no attribute 'pdf'"
     ]
    }
   ],
   "source": [
    "# Save your notebook first, then run this cell to export your submission.\n",
    "grader.export(run_tests=True)"
   ]
  },
  {
   "cell_type": "markdown",
   "metadata": {},
   "source": [
    " "
   ]
  }
 ],
 "metadata": {
  "kernelspec": {
   "display_name": "Python 3 (ipykernel)",
   "language": "python",
   "name": "python3"
  },
  "language_info": {
   "codemirror_mode": {
    "name": "ipython",
    "version": 3
   },
   "file_extension": ".py",
   "mimetype": "text/x-python",
   "name": "python",
   "nbconvert_exporter": "python",
   "pygments_lexer": "ipython3",
   "version": "3.12.1"
  },
  "otter": {
   "OK_FORMAT": true,
   "tests": {
    "q1": {
     "name": "q1",
     "points": 2,
     "suites": [
      {
       "cases": [
        {
         "code": ">>> def test1_1():\n...     return q1_short_lower_twotimepad(b'\\x1e\\x1b\\x03', b'\\x0f\\t\\x1f') == {b'day', b'use'}\n>>> test1_1()\nTrue",
         "hidden": false,
         "locked": false
        },
        {
         "code": ">>> from os import urandom\n>>> from random import sample\n>>> \n>>> def test1_2():\n...     for i in range(2000):\n...         [index1, index2] = sample(range(len(three_letter_words_lower)), 2)\n...         word1 = three_letter_words_lower[index1]\n...         word2 = three_letter_words_lower[index2]\n...         bytesKey = urandom(3)\n...         if q1_short_lower_twotimepad(strxor(word1, bytesKey), strxor(word2, bytesKey)) != {word1, word2}:\n...             print('When testing on the ciphertexts', strxor(word1, bytesKey), 'and', strxor(word2, bytesKey), 'failed to find the message pair:', {word1, word2})\n...             return False\n...     return True\n>>> test1_2()\nTrue",
         "hidden": false,
         "locked": false
        }
       ],
       "scored": true,
       "setup": "",
       "teardown": "",
       "type": "doctest"
      }
     ]
    },
    "q2": {
     "name": "q2",
     "points": 1,
     "suites": [
      {
       "cases": [
        {
         "code": ">>> def test2_1():\n...     return q2_short_twotimepad(b'/\\x07\\x14', b'\\x05\\x03\\x1a') == {b'Day new', b'New day'}\n>>> test2_1()\nTrue",
         "hidden": false,
         "locked": false
        },
        {
         "code": ">>> from os import urandom\n>>> from random import sample\n>>> \n>>> def test2_2():\n...     for i in range(600):\n...         [index1, index2] = sample(range(len(three_letter_words_lower)), 2)\n...         word1 = three_letter_words_upper[index1]\n...         word2 = three_letter_words_lower[index2]\n...         bytesKey = urandom(3)\n...         theset = q2_short_twotimepad(strxor(word1, bytesKey), strxor(word2, bytesKey))\n...         if word1 + b' ' + word2 not in theset or len(theset) > 10:\n...             print('When testing on the ciphertexts', strxor(word1, bytesKey), 'and', strxor(word2, bytesKey), 'failed to find the plaintext message:', word1 + b' ' + word2)\n...             return False\n...     return True\n>>> test2_2()\nTrue",
         "hidden": false,
         "locked": false
        }
       ],
       "scored": true,
       "setup": "",
       "teardown": "",
       "type": "doctest"
      }
     ]
    },
    "q3": {
     "name": "q3",
     "points": 2,
     "suites": [
      {
       "cases": [
        {
         "code": ">>> from Crypto.Hash import SHA256\n>>> \n>>> def test3_1():\n...     answerhash = 'a391caeff746e544a44b66eefb615e8bad12c3a12642bcec0527237ba00ad904'\n...     for answerstring in q3_full_two_time_pad(b'5a2e8da8d55eb6b738139bda26471b26f5fa4f', b'3b3196b8871db6b574408ad76f595e72f2f85d'):\n...         h = SHA256.new(answerstring)\n...         if h.hexdigest() == answerhash:\n...             return True\n...     return False\n>>> test3_1()\nTrue",
         "hidden": false,
         "locked": false
        },
        {
         "code": ">>> from binascii import hexlify\n>>> import random\n>>> from os import urandom\n>>> \n>>> def one_time_pad(bytesMessage, bytesKey):\n...     \"\"\" If both the message and key are of type string and have the same length,\n...         then takes their strxor and returns the corresponding ciphertext.\n...     \"\"\"\n...     assert type(bytesMessage) == bytes\n...     assert type(bytesKey) == bytes\n...     assert len(bytesMessage) == len(bytesKey)\n...     return strxor(bytesMessage, bytesKey)\n>>> \n>>> def generate_n_char_sentence(n, words, isBlank=False):\n...     if isBlank:\n...         cap = n - 1\n...     else:\n...         cap = n\n...     while True:\n...         sentence = ''\n...         while len(sentence) < cap:\n...             word = random.choice(words)\n...             if len(sentence) + len(word) + (1 if sentence else 0) <= cap:\n...                 sentence += (' ' if sentence else '') + word\n...             else:\n...                 break\n...         if len(sentence) == cap:\n...             if isBlank:\n...                 return ' ' + sentence\n...             return sentence\n>>> \n>>> def test3_2():\n...     words = 'a about after all also an and any as at back be because but by can\\n    come could day do even first for from get give go good have he her him his how\\n    i if in into it its just know like look make me most my new no not now of on\\n    one only or other our out over people say see she so some take than that the\\n    their them then there these they think this time to two up us use want way we\\n    well what when which who will with work would year you your'.split()\n...     cnt = 0\n...     total_length = 16\n...     total_count = 10\n...     for i in range(total_count):\n...         m1 = generate_n_char_sentence(total_length, words, False).capitalize().encode('ascii')\n...         m2 = generate_n_char_sentence(total_length, words, True).encode('ascii')\n...         tempkey = urandom(total_length)\n...         c1_hex = hexlify(one_time_pad(m1, tempkey))\n...         c2_hex = hexlify(one_time_pad(m2, tempkey))\n...         theset = q3_full_two_time_pad(c1_hex, c2_hex)\n...         if m1 + m2 in theset and len(theset) <= 100:\n...             cnt += 1\n...         else:\n...             print('Failed test on ciphertexts:', c1_hex, 'and', c2_hex, 'expected to see m1 =', m1, 'and m2 =', m2)\n...     return cnt / total_count >= 0.8\n>>> test3_2()\nTrue",
         "hidden": false,
         "locked": false
        }
       ],
       "scored": true,
       "setup": "",
       "teardown": "",
       "type": "doctest"
      }
     ]
    }
   }
  }
 },
 "nbformat": 4,
 "nbformat_minor": 4
}
