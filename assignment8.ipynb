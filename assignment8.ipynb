{
 "cells": [
  {
   "cell_type": "code",
   "execution_count": 1,
   "metadata": {
    "deletable": false,
    "editable": false
   },
   "outputs": [],
   "source": [
    "# Initialize Otter\n",
    "import otter\n",
    "grader = otter.Notebook(\"assignment8.ipynb\")"
   ]
  },
  {
   "cell_type": "markdown",
   "metadata": {},
   "source": [
    "# DS 453 / 653: Programming Assignment 8\n",
    "\n",
    "**Due date**: Thursday, April 11 at 8pm on [Gradescope](https://www.gradescope.com/courses/710247).\n",
    "\n",
    "_You must follow the Academic Code of Conduct and Collaboration Policy stated in the course syllabus at all times while working on this assignment._\n",
    "\n",
    "This assignment contains 2 questions. *Only the first part is auto-graded, and the second part will be manually graded*. You must successfully complete both parts in order to pass this assignment.\n",
    "\n",
    "To begin, please execute the code block below:"
   ]
  },
  {
   "cell_type": "markdown",
   "metadata": {},
   "source": [
    "## Assignment Overview\n",
    "\n",
    "The goal of this assignment is to design a secure multi-party computation protocol.\n",
    "\n",
    "### Problem setup\n",
    "\n",
    "Here is the problem setup: David has four numbers $x_0$, $x_1$, and $x_2$, and he wants to compute the function $g(\\vec{x}) = (x_0 \\cdot x_1) + x_2$, where the entire computation occurs mod $256$.\n",
    "\n",
    "If David had computing power, he would could the function on his own as shown in the following code block. (Note: the class `UInt8` will automatically perform modular arithmetic as needed to ensure that all integers stay in the range 0-255.)"
   ]
  },
  {
   "cell_type": "code",
   "execution_count": 2,
   "metadata": {},
   "outputs": [],
   "source": [
    "# Execute this code block if using Google Colab, or else install this package yourself\n",
    "#!pip install fixedint"
   ]
  },
  {
   "cell_type": "code",
   "execution_count": 2,
   "metadata": {},
   "outputs": [
    {
     "name": "stdout",
     "output_type": "stream",
     "text": [
      "<class 'list'>\n",
      "20\n"
     ]
    }
   ],
   "source": [
    "# Execute this code block, and make sure you understand its output before continuing\n",
    "\n",
    "from fixedint import UInt8\n",
    "\n",
    "def g(x):\n",
    "    return (x[0] * x[1]) + x[2]\n",
    "\n",
    "David_inputs = [UInt8(14), UInt8(19), UInt8(10)]\n",
    "print(type(David_inputs))\n",
    "\n",
    "print(g(David_inputs))"
   ]
  },
  {
   "cell_type": "markdown",
   "metadata": {},
   "source": [
    "Rather than computing the function on his own, however, David decides to outsource this computation. His friends Alice, Bob, and Carol are all willing to serve as cloud computing parties.\n",
    "\n",
    "While David is grateful for their assistance, he does not fully trust his friends with this sensitive data. More specifically: David views his friends as _semi-honest_ -- he believes they are not faulty and will correctly execute any code that you write in this homework assignment, but it is important that they do not learn David's secret data in the process."
   ]
  },
  {
   "cell_type": "markdown",
   "metadata": {},
   "source": [
    "### Synchronous Network\n",
    "\n",
    "To assist in this homework assignment, we're going to bring back the `SynchronousNetwork` from the previous homework. The following code block contains exactly the same code, except that the parties can send and receive lists of UInt8 numbers, rather than the values Zero, One, and Null in the previous homework."
   ]
  },
  {
   "cell_type": "code",
   "execution_count": 9,
   "metadata": {},
   "outputs": [],
   "source": [
    "## Execute, but DO NOT MODIFY this code block ##\n",
    "\n",
    "from typing import List\n",
    "import random\n",
    "from fixedint import UInt8\n",
    "# this method is used only for creating the debug log\n",
    "def printList(x: List[UInt8]):\n",
    "    if(x == None):\n",
    "        return '[]'\n",
    "    output = '[ '\n",
    "    for i in x:\n",
    "        output += str(i) + \" \"\n",
    "    output += ']'\n",
    "    return output\n",
    "\n",
    "# The Party class is a base class representing a single participant in a distributed protocol.\n",
    "# This party can choose what messages to send, and can record the contents of messages received.\n",
    "class Party:\n",
    "    def __init__(self, id: int, nb_faulty_parties: int, nb_total_parties: int, input: List[UInt8]):\n",
    "        # Precondition: we guarantee that the party's id is between 1 and n\n",
    "        self.id = id\n",
    "        # In your code, you should assume that the party is honest\n",
    "        # (we handle faulty parties separately in the SynchronousNetwork class)\n",
    "        self.input = input\n",
    "        self.is_faulty = False\n",
    "        self.f = nb_faulty_parties\n",
    "        self.n = nb_total_parties\n",
    "\n",
    "    # send and receive proceeds in rounds\n",
    "    # our SynchronousNetwork always completes one round before starting the next one\n",
    "    def send(self, round_number: int, destination_party: int) -> List[UInt8]:\n",
    "        return\n",
    "\n",
    "    def receive(self, round_number: int, sender_party: int, val: List[UInt8]) -> None:\n",
    "        # do an action based on what you receive from the sender party\n",
    "        # but don't return anything\n",
    "        return None\n",
    "\n",
    "    # the output method is only run once at the end of the protocol\n",
    "    # after all rounds of communication are complete\n",
    "    def output(self):\n",
    "        ## return what this party decides to output\n",
    "        return\n",
    "\n",
    "class SynchronousNetwork:\n",
    "    # faulty parties only matter for the optional task\n",
    "    def __init__(self, PartyType, nb_faulty_parties: int,\n",
    "                 nb_total_parties: int, inputs: list, debug=False):\n",
    "        # verify that f < n\n",
    "        assert(nb_faulty_parties < nb_total_parties)\n",
    "        assert(len(inputs) == nb_total_parties)\n",
    "        self.debug = debug\n",
    "\n",
    "        # creating several parties with the prescribed inputs\n",
    "        self.parties = [PartyType(i, nb_faulty_parties, nb_total_parties,\n",
    "                                  inputs[i-1]) for i in range(1, nb_total_parties + 1)]\n",
    "        self.debug_print(\"Inputs:\")\n",
    "        for i in range(1, nb_total_parties + 1):\n",
    "            self.debug_print(\"Party \" + str(i) + \" input: \" + printList(inputs[i-1]))\n",
    "\n",
    "        # randomly set some of the parties to be faulty, except the last one\n",
    "        for p in random.sample(self.parties, nb_faulty_parties):\n",
    "            if(p.id != 4):\n",
    "                p.is_faulty = True\n",
    "        self.leader = random.sample(self.parties, 1)[0]\n",
    "\n",
    "    def run(self, nb_rounds) -> list:\n",
    "        # execute all nb_rounds rounds of the synchronous protocol, in order\n",
    "        for i in range(1, nb_rounds + 1):\n",
    "            self.debug_print(\"\\nStart of round \" + str(i) + \":\")\n",
    "\n",
    "            for p1 in self.parties:\n",
    "                for p2 in self.parties:\n",
    "                    # each party can send one message to all parties (including itself!)\n",
    "                    val = SynchronousNetwork.send_with_errors(i, p1, p2.id)\n",
    "                    self.debug_print(\"party with id \" + str(p1.id) + \" sending to party with id \" \n",
    "                                         + str(p2.id) + \" a message with content: \" + printList(val))\n",
    "\n",
    "                    # recipient receives the message instantaneously\n",
    "                    p2.receive(i, p1.id, val)\n",
    "\n",
    "        # after all rounds are finished, retrieve each party's output\n",
    "        res = [p.output() for p in self.parties]\n",
    "\n",
    "        self.debug_print(\"\\nDavid's output: \" + str(res[3]) + \"\\n\")\n",
    "        return res\n",
    "\n",
    "    def send_with_errors(round_nb, sender, recv) -> List[UInt8]:\n",
    "        message = sender.send(round_nb, recv)\n",
    "\n",
    "        # for honest parties or most of the time for faulty parties,\n",
    "        # call the sender party and perform the action it wants\n",
    "        r = random.random()\n",
    "        if (not sender.is_faulty or r < 0.95):\n",
    "            return message\n",
    "        # for faulty parties, occasionally send random numbers\n",
    "        # this case only matters for the optional task\n",
    "        else:\n",
    "            for i in range(len(message)):\n",
    "                message[i] = UInt8(random.randrange(256))\n",
    "            return message\n",
    "\n",
    "    # pretty-printer that you can use to view the network communication\n",
    "    def debug_print(self, obj):\n",
    "        if self.debug:\n",
    "            print(obj)\n",
    "        else:\n",
    "            pass"
   ]
  },
  {
   "cell_type": "markdown",
   "metadata": {},
   "source": [
    "As a reminder: this code block provides two classes: a `Party` object that represents a single computer in a network, and a `SynchronousNetwork` that allows several `Party` objects to communicate. The network runs all of the parties (roughly) in parallel. You only have to write the code from the perspective of a single party $i$, and the network will handle the execution of all parties."
   ]
  },
  {
   "cell_type": "markdown",
   "metadata": {
    "deletable": false,
    "editable": false
   },
   "source": [
    "## Question 1: Construct the semi-honest 3-party secure computation protocol (3 points)\n",
    "\n",
    "__Your task__: Write Python code that executes the secure 3-party computation protocol based on replicated secret sharing, in order to calculate the function $f(\\vec{x})$.\n",
    "\n",
    "Concretely, run a 4-party synchronous network where Alice, Bob, Carol, and David have party ids 1 through 4, respectively. Only David receives any inputs, and only David should receive an output. The other parties should only compute over secret shares of David's data.\n",
    "\n",
    "__Your response__:\n",
    "\n",
    "_Points:_ 3"
   ]
  },
  {
   "cell_type": "code",
   "execution_count": 10,
   "metadata": {},
   "outputs": [],
   "source": [
    "# Objective: Secure MPC of (x[0] * x[1]) + x[2]\n",
    "\n",
    "class MPCParty(Party):\n",
    "    def __init__(self, *args, **kwargs):\n",
    "        super().__init__(*args, **kwargs)\n",
    "        self.shares = []\n",
    "        self.computations = []\n",
    "\n",
    "        # David create 3 shares (a, b, c) such that the sum is equal to his input ([UInt8(14), UInt8(19), UInt8(10)])\n",
    "        if self.id == 4:  \n",
    "            for inp in self.input:\n",
    "                sh1, sh2 = UInt8(random.randint(0, 255)), UInt8(random.randint(0, 255))\n",
    "                sh3 = UInt8(inp - sh1 - sh2)\n",
    "                self.shares.append([sh1, sh2, sh3])\n",
    "\n",
    "    def send(self, round_number: int, destination_party: int):\n",
    "    # Double computation by the computing parties:\n",
    "        # Secure MULTIPLICATION: d = a * b = input[0] * input[1]\n",
    "        # Secure ADDITION: e = c + d = input[2] + d\n",
    "    # Output by David: e = e1 + e2 + e3\n",
    "\n",
    "        # ROUND 1: David sends a secret package of shares to each party\n",
    "            # David sends a1, a2, b1, b2 and c1 to Alice\n",
    "            # David sends a2, a3, b2, b3 and c2 to Bob\n",
    "            # David sends a3, a1, b3, b1 and c3 to Carol\n",
    "    \n",
    "        if round_number == 1 and self.id == 4 and destination_party in [1, 2, 3]: # Ensure only Alice, Bob, or Carol are sent the shares \n",
    "            package = [self.shares[0][destination_party - 1],\n",
    "                      self.shares[0][destination_party % 3],\n",
    "                      self.shares[1][destination_party - 1],\n",
    "                      self.shares[1][destination_party % 3]]\n",
    "            c = self.shares[2][destination_party - 1]\n",
    "            package.append(c)\n",
    "            return package\n",
    "\n",
    "        # ROUND 2: Alice, Bob, or Carol do computations with the received secret package and c's and send them to David\n",
    "            # d = (a1 + a2 + a3) * (b1 + b2 + b3) = d1 + d2 + d3\n",
    "            # Alice computes d1 = a1 * b1 + a1 * b2 + a2 * b1, and then adds it to c1 as e1 = d1 + c1\n",
    "            # Bob computes d2 = a2 * b2 + a2 * b3 + a3 * b2, and then adds it to c1 as e2 = d2 + c2\n",
    "            # Carol computes d3 = a3 * b3 + a3 * b1 + a1 * b3, and then adds it to c1 as e3 = d3 + c3\n",
    "        \n",
    "        if round_number == 2 and self.id in [1,2,3]:\n",
    "            computation = (self.input[0] * self.input[2] + self.input[0] * self.input[3] + self.input[1] * self.input[2]) + self.input[4] #c\n",
    "            return [computation]\n",
    "\n",
    "    def receive(self, round_number: int, sender_party: int, val: List[UInt8]):\n",
    "        \n",
    "        # ROUND 1: David sends to Alice, Bob and Carol \n",
    "        if round_number == 1 and sender_party == 4 and self.id in [1,2,3]:\n",
    "            self.input.extend(val) #a's & b's --> val[:-1]; c --> val[-1]\n",
    "\n",
    "        # ROUND 2: Alice, Bob and Carol send to David\n",
    "        elif round_number == 2 and sender_party != 4:\n",
    "            self.computations.extend(val)\n",
    "\n",
    "    def output(self):\n",
    "        # Only David computes final output as output = e1 + e2 + e3\n",
    "        if self.id == 4:\n",
    "            output = sum(self.computations) % 256\n",
    "            return output"
   ]
  },
  {
   "cell_type": "code",
   "execution_count": 7,
   "metadata": {
    "scrolled": true,
    "tags": []
   },
   "outputs": [
    {
     "name": "stdout",
     "output_type": "stream",
     "text": [
      "Inputs:\n",
      "Party 1 input: [ ]\n",
      "Party 2 input: [ ]\n",
      "Party 3 input: [ ]\n",
      "Party 4 input: [ 14 19 10 ]\n",
      "\n",
      "Start of round 1:\n",
      "party with id 1 sending to party with id 1 a message with content: []\n",
      "VAL None\n",
      "party with id 1 sending to party with id 2 a message with content: []\n",
      "VAL None\n",
      "party with id 1 sending to party with id 3 a message with content: []\n",
      "VAL None\n",
      "party with id 1 sending to party with id 4 a message with content: []\n",
      "VAL None\n",
      "party with id 2 sending to party with id 1 a message with content: []\n",
      "VAL None\n",
      "party with id 2 sending to party with id 2 a message with content: []\n",
      "VAL None\n",
      "party with id 2 sending to party with id 3 a message with content: []\n",
      "VAL None\n",
      "party with id 2 sending to party with id 4 a message with content: []\n",
      "VAL None\n",
      "party with id 3 sending to party with id 1 a message with content: []\n",
      "VAL None\n",
      "party with id 3 sending to party with id 2 a message with content: []\n",
      "VAL None\n",
      "party with id 3 sending to party with id 3 a message with content: []\n",
      "VAL None\n",
      "party with id 3 sending to party with id 4 a message with content: []\n",
      "VAL None\n",
      "party with id 4 sending to party with id 1 a message with content: [ 218 245 166 140 222 ]\n",
      "VAL [UInt8(218), UInt8(245), UInt8(166), UInt8(140), UInt8(222)]\n",
      "party with id 4 sending to party with id 2 a message with content: [ 245 63 140 225 126 ]\n",
      "VAL [UInt8(245), UInt8(63), UInt8(140), UInt8(225), UInt8(126)]\n",
      "party with id 4 sending to party with id 3 a message with content: [ 63 218 225 166 174 ]\n",
      "VAL [UInt8(63), UInt8(218), UInt8(225), UInt8(166), UInt8(174)]\n",
      "party with id 4 sending to party with id 4 a message with content: []\n",
      "VAL None\n",
      "\n",
      "Start of round 2:\n",
      "party with id 1 sending to party with id 1 a message with content: [ 80 ]\n",
      "VAL [UInt8(80)]\n",
      "party with id 1 sending to party with id 2 a message with content: [ 80 ]\n",
      "VAL [UInt8(80)]\n",
      "party with id 1 sending to party with id 3 a message with content: [ 80 ]\n",
      "VAL [UInt8(80)]\n",
      "party with id 1 sending to party with id 4 a message with content: [ 80 ]\n",
      "VAL [UInt8(80)]\n",
      "party with id 2 sending to party with id 1 a message with content: [ 67 ]\n",
      "VAL [UInt8(67)]\n",
      "party with id 2 sending to party with id 2 a message with content: [ 67 ]\n",
      "VAL [UInt8(67)]\n",
      "party with id 2 sending to party with id 3 a message with content: [ 67 ]\n",
      "VAL [UInt8(67)]\n",
      "party with id 2 sending to party with id 4 a message with content: [ 67 ]\n",
      "VAL [UInt8(67)]\n",
      "party with id 3 sending to party with id 1 a message with content: [ 129 ]\n",
      "VAL [UInt8(129)]\n",
      "party with id 3 sending to party with id 2 a message with content: [ 129 ]\n",
      "VAL [UInt8(129)]\n",
      "party with id 3 sending to party with id 3 a message with content: [ 129 ]\n",
      "VAL [UInt8(129)]\n",
      "party with id 3 sending to party with id 4 a message with content: [ 129 ]\n",
      "VAL [UInt8(129)]\n",
      "party with id 4 sending to party with id 1 a message with content: []\n",
      "VAL None\n",
      "party with id 4 sending to party with id 2 a message with content: []\n",
      "VAL None\n",
      "party with id 4 sending to party with id 3 a message with content: []\n",
      "VAL None\n",
      "party with id 4 sending to party with id 4 a message with content: []\n",
      "VAL None\n",
      "\n",
      "David's output: 20\n",
      "\n"
     ]
    }
   ],
   "source": [
    "numRounds = 2\n",
    "\n",
    "# David has 3 inputs, and everyone else has none\n",
    "mpc_inputs = [[],[],[], [UInt8(14), UInt8(19), UInt8(10)]]\n",
    "\n",
    "# this question only asks about semi-honest security, so no parties are faulty\n",
    "mpcNetwork = SynchronousNetwork(MPCParty, 0, 4, mpc_inputs, debug=True)\n",
    "result = mpcNetwork.run(numRounds)\n",
    "assert(result[3] == g(mpc_inputs[3]))"
   ]
  },
  {
   "cell_type": "code",
   "execution_count": 11,
   "metadata": {
    "deletable": false,
    "editable": false,
    "scrolled": true
   },
   "outputs": [
    {
     "data": {
      "text/html": [
       "<p><strong><pre style='display: inline;'>q1</pre></strong> passed! 💯</p>"
      ],
      "text/plain": [
       "q1 results: All test cases passed!"
      ]
     },
     "execution_count": 11,
     "metadata": {},
     "output_type": "execute_result"
    }
   ],
   "source": [
    "grader.check(\"q1\")"
   ]
  },
  {
   "cell_type": "markdown",
   "metadata": {},
   "source": [
    "## Question 2: Privacy of the secure computation protocol (2 points)\n",
    "\n",
    "Recall that a secure multi-party computation protocol must satisfy _correctness_ and _privacy_. The auto-grader in Question 1 only checked for correctness, meaning that your code produces the same result as the `g` function.\n",
    "\n",
    "__Your task:__ Explain in words why the protocol you implemented in Question 1 provides perfect privacy. That is: even though Alice, Bob, and Carol receive messages in this protocol, describe why they cannot learn anything about David's data. We anticipate that a response here should be around 1-2 paragraphs in length; that said, you may use any combination of words, code, formulas, figures, etc as needed to answer this question.\n",
    "\n",
    "__Your response__: In my implementation of the secure MPC procol, perfect privacy is achieved by ensuring that each computing party (Alice, Bob and Carol) receives only parts of the data necessary to compute a function but not enough to reconstruct the original inputs. David splits each of its inputs (a, b, c) into 3 random shares, such that their sum modulo 256 (e.g. `a1 + a2 + a3 % 256` for a) equals the input. As a result, no single share or even a pair of shares can reveal any information about David's inputs due to the randomness and independence of the other shares. This follows the principle of perfect privacy."
   ]
  },
  {
   "cell_type": "markdown",
   "metadata": {},
   "source": [
    "## Submitting the Assignment\n",
    "\n",
    "Please follow these instructions to complete the assignment and submit it for credit.\n",
    "\n",
    "**Documenting collaborators, sources, and AI tools:** In accordance with the collaboration policy, use the space below to report if you used any resources to complete this homework assignment, aside from the lecture notes and the course textbooks/videos. Specifically, please report:\n",
    "\n",
    "1. Names of all classmates you worked with, and a short description of the work that you performed together.\n",
    "2. All written materials that you used, such as books or websites (besides the lecture notes or textbooks). Please include links to any web-based resources, or citations to any physical works.\n",
    "3. All code that you used from other sources. In particular, if you used an AI tool, then you must include the entire exchange with the AI tool, as per the [CDS Generative AI Assistance Policy](https://www.bu.edu/cds-faculty/culture-community/gaia-policy/).\n",
    "\n",
    "Remember that if we discover any undocumented collaborators, sources, or AI tools then this is grounds for a grade penalty and referral to BU's Academic Conduct Committee (as described in the syllabus)."
   ]
  },
  {
   "cell_type": "markdown",
   "metadata": {},
   "source": [
    "_Your response:_\n",
    "\n",
    "1. N/A\n",
    "\n",
    "2. N/A\n",
    "\n",
    "3. N/A"
   ]
  },
  {
   "cell_type": "markdown",
   "metadata": {},
   "source": [
    "**Sending to Gradescope:** After completing the assignment:\n",
    "- if you did the assignment on Colab, download it in `.ipynb` format.\n",
    "- if you did the assignment locally on your machine, all you need to do is to find it in your directory.\n",
    "\n",
    "Then, submit only the `.ipynb` file to this week's programming assignment on Gradescope. It may take a few seconds or a minute for the auto-grading system to check your work.\n",
    "\n",
    "Remember that you can submit as many times as you want until the deadline for the assignment; only your last score counts."
   ]
  },
  {
   "cell_type": "markdown",
   "metadata": {
    "deletable": false,
    "editable": false
   },
   "source": [
    "## Submission\n",
    "\n",
    "Make sure you have run all cells in your notebook in order before running the cell below, so that all images/graphs appear in the output. The cell below will generate a zip file for you to submit. **Please save before exporting!**\n",
    "\n",
    "Submit your assignment on Gradescope once you have passed enough tests to receive at least 4 of the 5 available points."
   ]
  },
  {
   "cell_type": "code",
   "execution_count": null,
   "metadata": {
    "deletable": false,
    "editable": false
   },
   "outputs": [],
   "source": [
    "# Save your notebook first, then run this cell to export your submission.\n",
    "grader.export(run_tests=True)"
   ]
  },
  {
   "cell_type": "markdown",
   "metadata": {},
   "source": [
    " "
   ]
  }
 ],
 "metadata": {
  "kernelspec": {
   "display_name": "Python 3 (ipykernel)",
   "language": "python",
   "name": "python3"
  },
  "language_info": {
   "codemirror_mode": {
    "name": "ipython",
    "version": 3
   },
   "file_extension": ".py",
   "mimetype": "text/x-python",
   "name": "python",
   "nbconvert_exporter": "python",
   "pygments_lexer": "ipython3",
   "version": "3.12.1"
  },
  "otter": {
   "OK_FORMAT": true,
   "tests": {
    "q1": {
     "name": "q1",
     "points": 3,
     "suites": [
      {
       "cases": [
        {
         "code": ">>> def test():\n...     numRounds = 2\n...     for _ in range(50000):\n...         mpc_inputs = [[], [], [], [UInt8(random.randrange(256)) for _ in range(3)]]\n...         mpcNetwork = SynchronousNetwork(MPCParty, 0, 4, mpc_inputs, debug=False)\n...         result = mpcNetwork.run(numRounds)\n...         assert result[3] == g(mpc_inputs[3])\n...     return True\n>>> test()\nTrue",
         "hidden": false,
         "locked": false
        }
       ],
       "scored": true,
       "setup": "",
       "teardown": "",
       "type": "doctest"
      }
     ]
    }
   }
  }
 },
 "nbformat": 4,
 "nbformat_minor": 4
}
