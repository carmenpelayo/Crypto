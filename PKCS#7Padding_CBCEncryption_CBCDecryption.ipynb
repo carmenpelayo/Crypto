{
 "cells": [
  {
   "cell_type": "code",
   "execution_count": 8,
   "metadata": {
    "deletable": false,
    "editable": false
   },
   "outputs": [],
   "source": [
    "# Initialize Otter\n",
    "import otter\n",
    "grader = otter.Notebook(\"assignment7.ipynb\")"
   ]
  },
  {
   "cell_type": "markdown",
   "metadata": {},
   "source": [
    "# DS 453 / 653: Programming Assignment 7\n",
    "\n",
    "**Due date**: Friday, April 5 at 8pm on [Gradescope](https://www.gradescope.com/courses/710247).\n",
    "\n",
    "_You must follow the Academic Code of Conduct and Collaboration Policy stated in the course syllabus at all times while working on this assignment._\n",
    "\n",
    "This assignment contains 5 questions worth a total of 5 points. You must receive at least 4 points to pass the assignment.\n",
    "\n",
    "Note that some of the tests in this week's assignment are hidden. So: make sure to check how many points you receive from the autograder. Simply seeing a message of the form \"all test cases passed\" is *not* sufficient, because it only means that all of the public tests hvae passed.\n",
    "\n",
    "To begin the assignment, please execute the code block below:"
   ]
  },
  {
   "cell_type": "code",
   "execution_count": 3,
   "metadata": {},
   "outputs": [
    {
     "name": "stdout",
     "output_type": "stream",
     "text": [
      "\u001b[33mDEPRECATION: Loading egg at /Library/Frameworks/Python.framework/Versions/3.12/lib/python3.12/site-packages/luxai2021-0.1.0-py3.12.egg is deprecated. pip 24.3 will enforce this behaviour change. A possible replacement is to use pip for package installation.. Discussion can be found at https://github.com/pypa/pip/issues/12330\u001b[0m\u001b[33m\n",
      "\u001b[0mRequirement already satisfied: pycryptodome in /Library/Frameworks/Python.framework/Versions/3.12/lib/python3.12/site-packages (3.20.0)\n",
      "Note: you may need to restart the kernel to use updated packages.\n"
     ]
    }
   ],
   "source": [
    "# Execute this block only if you are using Google Colab.\n",
    "# If you are running the notebook file locally, install pycryptodome yourself but do NOT install the package pycrypto.\n",
    "\n",
    "%pip install pycryptodome"
   ]
  },
  {
   "cell_type": "markdown",
   "metadata": {},
   "source": [
    "## Assignment Overview"
   ]
  },
  {
   "cell_type": "markdown",
   "metadata": {},
   "source": [
    "#### Helper functions"
   ]
  },
  {
   "cell_type": "code",
   "execution_count": 4,
   "metadata": {},
   "outputs": [],
   "source": [
    "from Crypto.Util.strxor import strxor\n",
    "\n",
    "def slice_into_blocks(message, block_size):\n",
    "    len_message = len(message)\n",
    "    assert(len_message >= block_size)\n",
    "    return [message[i: i + block_size] for i in range(0, len_message, block_size)]\n",
    "\n",
    "class Sample_Cipher(object):\n",
    "    def __init__(self):\n",
    "        \"\"\"\n",
    "            Sample Cipher class that will be passed to some of the methods in the lab\n",
    "        \"\"\"\n",
    "        self.BLOCK_SIZE = 16  # bytes\n",
    "        return\n",
    "\n",
    "    def sub_word(self, word):\n",
    "        \"\"\"performs an s-box substitution on the 8-bit input \"word\"\n",
    "        NOTE: Using this function directly will NOT give you full-credit for question 1\n",
    "        Args:\n",
    "            word    (bytes/bytearray): bytes/bytearray object of length 8 bits (1 byte).\n",
    "        Return:\n",
    "            bytes : bytes object of length 8 bits (1 byte)\n",
    "        \"\"\"\n",
    "        sbox = (  # Sample S-Box\n",
    "            0x63, 0x7C, 0x77, 0x7B, 0xF2, 0x6B, 0x6F, 0xC5, 0x30, 0x01, 0x67, 0x2B, 0xFE, 0xD7, 0xAB, 0x76,\n",
    "            0xCA, 0x82, 0xC9, 0x7D, 0xFA, 0x59, 0x47, 0xF0, 0xAD, 0xD4, 0xA2, 0xAF, 0x9C, 0xA4, 0x72, 0xC0,\n",
    "            0xB7, 0xFD, 0x93, 0x26, 0x36, 0x3F, 0xF7, 0xCC, 0x34, 0xA5, 0xE5, 0xF1, 0x71, 0xD8, 0x31, 0x15,\n",
    "            0x04, 0xC7, 0x23, 0xC3, 0x18, 0x96, 0x05, 0x9A, 0x07, 0x12, 0x80, 0xE2, 0xEB, 0x27, 0xB2, 0x75,\n",
    "            0x09, 0x83, 0x2C, 0x1A, 0x1B, 0x6E, 0x5A, 0xA0, 0x52, 0x3B, 0xD6, 0xB3, 0x29, 0xE3, 0x2F, 0x84,\n",
    "            0x53, 0xD1, 0x00, 0xED, 0x20, 0xFC, 0xB1, 0x5B, 0x6A, 0xCB, 0xBE, 0x39, 0x4A, 0x4C, 0x58, 0xCF,\n",
    "            0xD0, 0xEF, 0xAA, 0xFB, 0x43, 0x4D, 0x33, 0x85, 0x45, 0xF9, 0x02, 0x7F, 0x50, 0x3C, 0x9F, 0xA8,\n",
    "            0x51, 0xA3, 0x40, 0x8F, 0x92, 0x9D, 0x38, 0xF5, 0xBC, 0xB6, 0xDA, 0x21, 0x10, 0xFF, 0xF3, 0xD2,\n",
    "            0xCD, 0x0C, 0x13, 0xEC, 0x5F, 0x97, 0x44, 0x17, 0xC4, 0xA7, 0x7E, 0x3D, 0x64, 0x5D, 0x19, 0x73,\n",
    "            0x60, 0x81, 0x4F, 0xDC, 0x22, 0x2A, 0x90, 0x88, 0x46, 0xEE, 0xB8, 0x14, 0xDE, 0x5E, 0x0B, 0xDB,\n",
    "            0xE0, 0x32, 0x3A, 0x0A, 0x49, 0x06, 0x24, 0x5C, 0xC2, 0xD3, 0xAC, 0x62, 0x91, 0x95, 0xE4, 0x79,\n",
    "            0xE7, 0xC8, 0x37, 0x6D, 0x8D, 0xD5, 0x4E, 0xA9, 0x6C, 0x56, 0xF4, 0xEA, 0x65, 0x7A, 0xAE, 0x08,\n",
    "            0xBA, 0x78, 0x25, 0x2E, 0x1C, 0xA6, 0xB4, 0xC6, 0xE8, 0xDD, 0x74, 0x1F, 0x4B, 0xBD, 0x8B, 0x8A,\n",
    "            0x70, 0x3E, 0xB5, 0x66, 0x48, 0x03, 0xF6, 0x0E, 0x61, 0x35, 0x57, 0xB9, 0x86, 0xC1, 0x1D, 0x9E,\n",
    "            0xE1, 0xF8, 0x98, 0x11, 0x69, 0xD9, 0x8E, 0x94, 0x9B, 0x1E, 0x87, 0xE9, 0xCE, 0x55, 0x28, 0xDF,\n",
    "            0x8C, 0xA1, 0x89, 0x0D, 0xBF, 0xE6, 0x42, 0x68, 0x41, 0x99, 0x2D, 0x0F, 0xB0, 0x54, 0xBB, 0x16\n",
    "        )\n",
    "        return bytes([sbox[b] for b in word])\n",
    "\n",
    "    def inv_sub_word(self, word):\n",
    "        \"\"\" performs an inverse s-box substitution on the 8-bit input \"word\"\n",
    "        NOTE: Using this function directly will NOT give you full-credit for question 1\n",
    "        Args:\n",
    "            word    (bytes/bytearray): bytes/bytearray object of length 8 bits (1 byte).\n",
    "        Return:\n",
    "            bytes : bytes object of length 8 bits (1 byte)\n",
    "        \"\"\"\n",
    "        sbox_inv = (  # Sample S-Box-Inverse\n",
    "            0x52, 0x09, 0x6A, 0xD5, 0x30, 0x36, 0xA5, 0x38, 0xBF, 0x40, 0xA3, 0x9E, 0x81, 0xF3, 0xD7, 0xFB,\n",
    "            0x7C, 0xE3, 0x39, 0x82, 0x9B, 0x2F, 0xFF, 0x87, 0x34, 0x8E, 0x43, 0x44, 0xC4, 0xDE, 0xE9, 0xCB,\n",
    "            0x54, 0x7B, 0x94, 0x32, 0xA6, 0xC2, 0x23, 0x3D, 0xEE, 0x4C, 0x95, 0x0B, 0x42, 0xFA, 0xC3, 0x4E,\n",
    "            0x08, 0x2E, 0xA1, 0x66, 0x28, 0xD9, 0x24, 0xB2, 0x76, 0x5B, 0xA2, 0x49, 0x6D, 0x8B, 0xD1, 0x25,\n",
    "            0x72, 0xF8, 0xF6, 0x64, 0x86, 0x68, 0x98, 0x16, 0xD4, 0xA4, 0x5C, 0xCC, 0x5D, 0x65, 0xB6, 0x92,\n",
    "            0x6C, 0x70, 0x48, 0x50, 0xFD, 0xED, 0xB9, 0xDA, 0x5E, 0x15, 0x46, 0x57, 0xA7, 0x8D, 0x9D, 0x84,\n",
    "            0x90, 0xD8, 0xAB, 0x00, 0x8C, 0xBC, 0xD3, 0x0A, 0xF7, 0xE4, 0x58, 0x05, 0xB8, 0xB3, 0x45, 0x06,\n",
    "            0xD0, 0x2C, 0x1E, 0x8F, 0xCA, 0x3F, 0x0F, 0x02, 0xC1, 0xAF, 0xBD, 0x03, 0x01, 0x13, 0x8A, 0x6B,\n",
    "            0x3A, 0x91, 0x11, 0x41, 0x4F, 0x67, 0xDC, 0xEA, 0x97, 0xF2, 0xCF, 0xCE, 0xF0, 0xB4, 0xE6, 0x73,\n",
    "            0x96, 0xAC, 0x74, 0x22, 0xE7, 0xAD, 0x35, 0x85, 0xE2, 0xF9, 0x37, 0xE8, 0x1C, 0x75, 0xDF, 0x6E,\n",
    "            0x47, 0xF1, 0x1A, 0x71, 0x1D, 0x29, 0xC5, 0x89, 0x6F, 0xB7, 0x62, 0x0E, 0xAA, 0x18, 0xBE, 0x1B,\n",
    "            0xFC, 0x56, 0x3E, 0x4B, 0xC6, 0xD2, 0x79, 0x20, 0x9A, 0xDB, 0xC0, 0xFE, 0x78, 0xCD, 0x5A, 0xF4,\n",
    "            0x1F, 0xDD, 0xA8, 0x33, 0x88, 0x07, 0xC7, 0x31, 0xB1, 0x12, 0x10, 0x59, 0x27, 0x80, 0xEC, 0x5F,\n",
    "            0x60, 0x51, 0x7F, 0xA9, 0x19, 0xB5, 0x4A, 0x0D, 0x2D, 0xE5, 0x7A, 0x9F, 0x93, 0xC9, 0x9C, 0xEF,\n",
    "            0xA0, 0xE0, 0x3B, 0x4D, 0xAE, 0x2A, 0xF5, 0xB0, 0xC8, 0xEB, 0xBB, 0x3C, 0x83, 0x53, 0x99, 0x61,\n",
    "            0x17, 0x2B, 0x04, 0x7E, 0xBA, 0x77, 0xD6, 0x26, 0xE1, 0x69, 0x14, 0x63, 0x55, 0x21, 0x0C, 0x7D\n",
    "        )\n",
    "        return bytes([sbox_inv[b] for b in word])\n",
    "\n",
    "    def encipher(self, key, message):\n",
    "        \"\"\"preforms an encipher on the input \"message\" given the key \"key\"\n",
    "        Args:\n",
    "            key     (bytes):   bytestring of length self.BLOCK_SIZE bytes.\n",
    "            message (bytes):   bytestring of length self.BLOCK_SIZE bytes.\n",
    "        Return:\n",
    "            bytes : bytestring of length self.BLOCK_SIZE bytes.\n",
    "        \"\"\"\n",
    "        return self.__TOY(message, key)\n",
    "\n",
    "    def __TOY(self, message, key):\n",
    "        assert(len(key) == self.BLOCK_SIZE)\n",
    "        assert(len(message) % self.BLOCK_SIZE == 0)\n",
    "\n",
    "        pre_xor = strxor(message, key)\n",
    "        sub_word = b''.join(self.sub_word(word)\n",
    "                            for word in slice_into_blocks(pre_xor, self.BLOCK_SIZE))\n",
    "        post_xor = strxor(sub_word, key)\n",
    "\n",
    "        return post_xor\n",
    "\n",
    "    def decipher(self, key, ciphertext):\n",
    "        \"\"\"preforms a TOY decipher on the self.BlOCK_SIZE length input \"ciphertext\" given the key \"key\"\n",
    "        Args:\n",
    "            key         (str):   hex-encoded string of self.BlOCK_SIZE length\n",
    "            ciphertext  (str):   hex-encoded string of self.BlOCK_SIZE length\n",
    "        Return:\n",
    "            str : hex-encoded string of self.BlOCK_SIZE length\n",
    "        \"\"\"\n",
    "        return self.__TOY_inv(ciphertext, key)\n",
    "\n",
    "    def __TOY_inv(self, ciphertext, key):\n",
    "        assert(len(key) == self.BLOCK_SIZE)\n",
    "        assert(len(ciphertext) % self.BLOCK_SIZE == 0)\n",
    "\n",
    "        post_xor = strxor(ciphertext, key)\n",
    "        sub_word = b''.join(self.inv_sub_word(word)\n",
    "                            for word in slice_into_blocks(post_xor, self.BLOCK_SIZE))\n",
    "        pre_xor = strxor(sub_word, key)\n",
    "\n",
    "        return pre_xor\n"
   ]
  },
  {
   "cell_type": "markdown",
   "metadata": {
    "deletable": false,
    "editable": false
   },
   "source": [
    "### Question 1: Create PKCS#7 padding\n",
    "\n",
    "In this question, you must create methods to add and remove padding according to the PKCS#7 standard described in class. The PKCS#7 padding standard is a common method to pad messages to a multiple of the block length. Given a string `s` that is $n$ bytes short of being a multiple of the block length, PKCS#7 padding simply adds $n$ bytes each of which have the byte value $n$.\n",
    "\n",
    "For instance, let's take AES as an example, in which case the block length is 16 bytes. The string `b\"TEST STRING\"` is 11 characters long and thus needs 5 bytes of padding. So, it gets padded to the string: `b\"TEST STRING\\x05\\x05\\x05\\x05\\x05\"` Here, the \"\\x05\" denotes the byte value 5 in hex form (this is valid Python syntax, by the way).\n",
    "\n",
    "If we choose to use padding, then we must **always** do so because the person on the other end of the wire is planning to remove the padding. In particular, if the string length is already a multiple of the block length, then we must add a new block and fill it with padding.\n",
    "\n",
    "For instance, the 16-byte string `b\"A COMPLETE BLOCK\"` gets PKCS#7 padded to the following 32-byte string:\n",
    "    `b\"A COMPLETE BLOCK\\x10\\x10\\x10\\x10\\x10\\x10\\x10\\x10\\x10\\x10\\x10\\x10\\x10\\x10\\x10\\x10\"`\n",
    "where \"\\x10\" denotes the hex value 10 (i.e., decimal value 16, the block length).\n",
    "\n",
    "__Your task__: Implement the following methods.\n",
    "- `pad(msg, block_size)` should take an input of arbitrary length and return a padded string based on the block_size and following the PKCS#7 standard.\n",
    "- `unpad(padded_msg, block_size)` should remove the padding from the padded_msg and return the original un-padded message.\n",
    "\n",
    "_Points:_ 1"
   ]
  },
  {
   "cell_type": "code",
   "execution_count": 9,
   "metadata": {
    "tags": []
   },
   "outputs": [],
   "source": [
    "def q1_pad(msg, block_size):\n",
    "    \"\"\"Adds PKCS#7 padding to an arbitrary length message based on the 'block_size'\n",
    "    Inputs:\n",
    "        msg      (bytes): bytestring of arbitrary length\n",
    "        block_size (int): length of a block\n",
    "    \n",
    "    ret (bytes): padded message whose length is a multiple of block_size \n",
    "    \"\"\"\n",
    "    pad_length = block_size - (len(msg) % block_size)\n",
    "    padding = bytes([pad_length] * pad_length)\n",
    "    return msg + padding"
   ]
  },
  {
   "cell_type": "code",
   "execution_count": 10,
   "metadata": {
    "tags": []
   },
   "outputs": [],
   "source": [
    "def q1_unpad(padded_msg, block_size):\n",
    "    \"\"\"Removes PKCS#7 padding if it exists and returns the un-padded message\n",
    "    Args:\n",
    "        padded_msg (bytes): message that is claimed to have PKCS#7 padding already applied\n",
    "    ret (bytes): un-padded message if the padding is valid, None otherwise \n",
    "    \"\"\"\n",
    "    pad_length = padded_msg[-1]\n",
    "    if pad_length < 1 or pad_length > block_size:\n",
    "        return None\n",
    "    if padded_msg[-pad_length:] != bytes([pad_length] * pad_length):\n",
    "        return None\n",
    "    return padded_msg[:-pad_length]"
   ]
  },
  {
   "cell_type": "code",
   "execution_count": 11,
   "metadata": {
    "deletable": false,
    "editable": false
   },
   "outputs": [
    {
     "data": {
      "text/html": [
       "<p><strong><pre style='display: inline;'>q1</pre></strong> passed! 🍀</p>"
      ],
      "text/plain": [
       "q1 results: All test cases passed!"
      ]
     },
     "execution_count": 11,
     "metadata": {},
     "output_type": "execute_result"
    }
   ],
   "source": [
    "grader.check(\"q1\")"
   ]
  },
  {
   "cell_type": "markdown",
   "metadata": {
    "deletable": false,
    "editable": false
   },
   "source": [
    "### Question 2: Implement CBC Mode encryption, with PKCS#7 padding and the provided block cipher `cipher`\n",
    "\n",
    "__Your Task__: Write the function `q2_enc_cbc_mode` that encrypts a message using CBC mode. (We recommend that you review the picture of CBC mode from Lecture 17.) Rather than using AES though, we are going to use the `Sample_Cipher` class at the top of this Jupyter notebook.\n",
    "\n",
    "Inputs:\n",
    "- key     (bytes): bytestring corresponding to the symmetric key (cipher.BLOCK_SIZE-bytes long)\n",
    "- message (bytes): bytestring corresponding to an arbitrary-length message\n",
    "- iv      (bytes): bytestring of an IV that should be used for the CBC encryption (cipher.BLOCK_SIZE long)\n",
    "- cipher (Cipher): Cipher class that provides access to a sample block cipher, via the command cipher.encipher(hexKey, message)\n",
    "\n",
    "Output:\n",
    "- ret     (str):  hex-encoded ciphertext (do **not** return the IV as part of the ciphertext)\n",
    "\n",
    "You might find useful the helper function `slice_into_blocks` that breaks apart the message into bytestrings of size `block_length`.\n",
    "\n",
    "Test vector:\n",
    "\n",
    "    q2_enc_cbc_mode(key=bytes.fromhex(\"a8c0eeef71c4f0ad7942cb2eefb0dff0\"), message=b\"w)0EA@W`j-3O~FhxwS~OixkV$D<2'v[apPoW[\", iv=bytes.fromhex(\"45054c1d141b6ae136b45c37800c7840\"), cipher=Sample_Cipher()) == bytes.fromhex(\"100ea146471f4ddc46fb829f6d9d5518229e2961bece0661d61656c2e989e157856b2cda53b8a46b308d5bba38934961\")\n",
    "\n",
    "\n",
    "__Your response:__\n",
    "\n",
    "_Points:_ 1"
   ]
  },
  {
   "cell_type": "code",
   "execution_count": 19,
   "metadata": {
    "tags": []
   },
   "outputs": [],
   "source": [
    "def q2_enc_cbc_mode(key, message, iv, cipher=Sample_Cipher):\n",
    "    cipher = Sample_Cipher()\n",
    "    padded_message = q1_pad(message, cipher.BLOCK_SIZE)\n",
    "    message_blocks = slice_into_blocks(padded_message, cipher.BLOCK_SIZE)\n",
    "    encrypted_blocks = []\n",
    "    previous_block = iv\n",
    "    for block in message_blocks:\n",
    "        xor_block = strxor(block, previous_block)  # XOR with the previous ciphertext block or IV\n",
    "        encrypted_block = cipher.encipher(key, xor_block)  # Encrypt the block\n",
    "        encrypted_blocks.append(encrypted_block)  # Append encrypted block to the result\n",
    "        previous_block = encrypted_block  # Set this block as the previous for the next iteration\n",
    "\n",
    "    # Combine all encrypted blocks into a single bytestring and return as hex\n",
    "    encrypted_message = b''.join(encrypted_blocks)\n",
    "    return encrypted_message "
   ]
  },
  {
   "cell_type": "code",
   "execution_count": 20,
   "metadata": {
    "deletable": false,
    "editable": false,
    "scrolled": true
   },
   "outputs": [
    {
     "data": {
      "text/html": [
       "<p><strong><pre style='display: inline;'>q2</pre></strong> passed! 🎉</p>"
      ],
      "text/plain": [
       "q2 results: All test cases passed!"
      ]
     },
     "execution_count": 20,
     "metadata": {},
     "output_type": "execute_result"
    }
   ],
   "source": [
    "grader.check(\"q2\")"
   ]
  },
  {
   "cell_type": "markdown",
   "metadata": {
    "deletable": false,
    "editable": false
   },
   "source": [
    "### Question 3: Implement CBC Mode **decryption** (with PKCS#7 padding, using the provided block cipher `cipher`)\n",
    "\n",
    "__Your Task:__ The problem description is similar to the one in the previous problem, just note the different inputs and expected outputs. This time, you must implement the **decryption** direction of CBC mode.\n",
    "\n",
    "__Args:__\n",
    "- key        (bytes): bytestring containing the symmetric key (cipher.BLOCK_SIZE-bytes long)\n",
    "- ciphertext (bytes): bytestring corresponding to the ciphertext (multiple cipher.BLOCK_SIZE-bytes long)\n",
    "- iv         (bytes): bytestring of an IV that should be used for the CBC decryption (cipher.BLOCK_SIZE-bytes long)\n",
    "- cipher    (Cipher): Cipher class (check `sample_cipher.py`) that provides access to a sample block cipher, where you can use the command cipher.decipher(hexKey, ciphertext)\n",
    "\n",
    "__Output:__\n",
    "ret (bytes): bytestring with an arbitrary length, with the padding removed\n",
    "    \n",
    "__Test vectors:__\n",
    "    You can use the same test vectors from `q2_enc_cbc_mode` in the reverse order to double check your solution.\n",
    "\n",
    "_Points:_ 1"
   ]
  },
  {
   "cell_type": "code",
   "execution_count": 33,
   "metadata": {
    "tags": []
   },
   "outputs": [],
   "source": [
    "\n",
    "\n",
    "def q3_dec_cbc_mode(key, ciphertext, iv, cipher=Sample_Cipher):\n",
    "    cipher = Sample_Cipher()\n",
    "    ciphertext_blocks = slice_into_blocks(ciphertext, cipher.BLOCK_SIZE)\n",
    "    decrypted_blocks = []\n",
    "    previous_block = iv\n",
    "    for block in ciphertext_blocks:\n",
    "        decrypted_block = cipher.decipher(key, block) # Decrypt the block\n",
    "        plaintext_block = strxor(decrypted_block, previous_block) # XOR the decrypted block with the previous ciphertext block to get the plaintext block\n",
    "        decrypted_blocks.append(plaintext_block)\n",
    "        previous_block = block # Update the previous block to the current ciphertext block\n",
    "\n",
    "    # Combine all decrypted blocks into a single bytestring and remove PKCS#7 padding\n",
    "    decrypted_message = b''.join(decrypted_blocks)\n",
    "    unpadded_message = q1_unpad(decrypted_message, cipher.BLOCK_SIZE)\n",
    "    return unpadded_message"
   ]
  },
  {
   "cell_type": "code",
   "execution_count": 34,
   "metadata": {
    "deletable": false,
    "editable": false
   },
   "outputs": [
    {
     "data": {
      "text/html": [
       "<p><strong><pre style='display: inline;'>q3</pre></strong> passed! 🙌</p>"
      ],
      "text/plain": [
       "q3 results: All test cases passed!"
      ]
     },
     "execution_count": 34,
     "metadata": {},
     "output_type": "execute_result"
    }
   ],
   "source": [
    "grader.check(\"q3\")"
   ]
  },
  {
   "cell_type": "markdown",
   "metadata": {
    "deletable": false,
    "editable": false
   },
   "source": [
    "### Question 4: Implement Counter (CTR) Mode encryption (using the provided block cipher `cipher`)\n",
    "\n",
    "__Your Task__: Write the function `q4_enc_ctr_mode` that encrypts a message using Counter (CTR) mode. As before, we recommend that you review the picture of CTR mode from Lecture 17.\n",
    "\n",
    "_Note:_ You can assume that the `BLOCK_SIZE` is at least 4 bytes, so the nonce you get as an input will always have a length of 4 bytes less than the `BLOCK_SIZE` of the cipher given. So make sure to append a counter of size 4 bytes to your nonce when using it. You can also assume that we would never  send a message with more than $2^{32}$ blocks; in other words, the counter will never go past `UINT32_MAX` (`0xFFFFFFFF`).  \n",
    "\n",
    "__Args:__ Same inputs as in Question 2 (except the `iv` is now called a `nonce`).\n",
    "- key     (bytes)\n",
    "- message (bytes)\n",
    "- nonce   (bytes)\n",
    "- cipher (Cipher)\n",
    "\n",
    "                        \n",
    "__Output:__\n",
    "ret     (bytes):  ciphertext (arbitrary length)\n",
    "\n",
    "__Test vectors:__\n",
    "\n",
    "    q4_enc_ctr_mode(key=bytes.fromhex(\"4c55061b9e3d802b64897306af2389a1\"), message=b\"qeN\", nonce=bytes.fromhex(\"a7314e0f243701914bf02b08\"), cipher=Sample_Cipher()) == bytes.fromhex(\"d4731a\")\n",
    "    q4_enc_ctr_mode(key=bytes.fromhex(\"7b2937e962319e03aec2d26c8d681e06\"), message=b\"}9&|:WQ\",nonce=bytes.fromhex(\"a5466611ff4369a8267ebd60\"), cipher=Sample_Cipher()) == bytes.fromhex(\"1bb8c0d40626a7\")\n",
    "\n",
    "__Your response:__\n",
    "\n",
    "_Points:_ 1"
   ]
  },
  {
   "cell_type": "code",
   "execution_count": 35,
   "metadata": {
    "tags": []
   },
   "outputs": [],
   "source": [
    "from struct import pack\n",
    "\n",
    "def q4_enc_ctr_mode(key, message, nonce, cipher=Sample_Cipher):\n",
    "    cipher = Sample_Cipher()  \n",
    "    block_size = cipher.BLOCK_SIZE\n",
    "    assert len(nonce) == block_size - 4\n",
    "    encrypted_message = bytearray()\n",
    "    counter = 0  \n",
    "\n",
    "    # Process each block of the message\n",
    "    while counter * block_size < len(message):\n",
    "        counter_bytes = pack('>I', counter)  # Create the counter block, consisting of nonce + 4 byte counter\n",
    "        nonce_counter_block = nonce + counter_bytes\n",
    "        keystream_block = cipher.encipher(key, nonce_counter_block) # Encrypt the nonce + counter block with the block cipher\n",
    "        block_start = counter * block_size # Get the appropriate message block segment\n",
    "        block_end = min(block_start + block_size, len(message))\n",
    "        message_block = message[block_start:block_end]\n",
    "        encrypted_message.extend(a ^ b for a, b in zip(message_block, keystream_block[:len(message_block)])) # XOR the message block with the keystream block and extend the encrypted message with the result\n",
    "        counter += 1\n",
    "\n",
    "    return bytes(encrypted_message)"
   ]
  },
  {
   "cell_type": "code",
   "execution_count": 36,
   "metadata": {
    "deletable": false,
    "editable": false
   },
   "outputs": [
    {
     "data": {
      "text/html": [
       "<p><strong><pre style='display: inline;'>q4</pre></strong> passed! ✨</p>"
      ],
      "text/plain": [
       "q4 results: All test cases passed!"
      ]
     },
     "execution_count": 36,
     "metadata": {},
     "output_type": "execute_result"
    }
   ],
   "source": [
    "grader.check(\"q4\")"
   ]
  },
  {
   "cell_type": "markdown",
   "metadata": {
    "deletable": false,
    "editable": false
   },
   "source": [
    "### Question 5: Implement Counter (CTR) Mode **decryption** (using the provided block cipher `cipher`)\n",
    "__Your Task:__\n",
    "    The problem description is similar to the one in the previous problem, just note the different inputs and expected outputs\n",
    "\n",
    "__Args:__ Same inputs as in Question 3 (except the `iv` is now called a `nonce`).\n",
    "- key (bytes)\n",
    "- ciphertext (bytes)\n",
    "- nonce (bytes)\n",
    "- cipher (Cipher)\n",
    "\n",
    "__output:__ ret (bytes): bytestring corresponding to the decrypted message\n",
    "\n",
    "__Test vectors:__\n",
    "You can use the same test vectors from `q4_enc_ctr_mode` in the reverse order to double check your solution\n",
    "\n",
    "_Points:_ 1"
   ]
  },
  {
   "cell_type": "code",
   "execution_count": 39,
   "metadata": {
    "tags": []
   },
   "outputs": [],
   "source": [
    "def q5_dec_ctr_mode(key, ciphertext, nonce, cipher=Sample_Cipher):\n",
    "    cipher = Sample_Cipher()  \n",
    "    block_size = cipher.BLOCK_SIZE\n",
    "    assert len(nonce) == block_size - 4\n",
    "    decrypted_message = bytearray()\n",
    "    counter = 0  \n",
    "\n",
    "    # Process each block of the ciphertext\n",
    "    while counter * block_size < len(ciphertext):\n",
    "        counter_bytes = pack('>I', counter) \n",
    "        nonce_counter_block = nonce + counter_bytes\n",
    "        keystream_block = cipher.encipher(key, nonce_counter_block)\n",
    "        block_start = counter * block_size\n",
    "        block_end = min(block_start + block_size, len(ciphertext))\n",
    "        ciphertext_block = ciphertext[block_start:block_end]\n",
    "        decrypted_message.extend(a ^ b for a, b in zip(ciphertext_block, keystream_block[:len(ciphertext_block)]))\n",
    "        counter += 1\n",
    "\n",
    "    return bytes(decrypted_message)"
   ]
  },
  {
   "cell_type": "code",
   "execution_count": 40,
   "metadata": {
    "deletable": false,
    "editable": false
   },
   "outputs": [
    {
     "data": {
      "text/html": [
       "<p><strong><pre style='display: inline;'>q5</pre></strong> passed! ✨</p>"
      ],
      "text/plain": [
       "q5 results: All test cases passed!"
      ]
     },
     "execution_count": 40,
     "metadata": {},
     "output_type": "execute_result"
    }
   ],
   "source": [
    "grader.check(\"q5\")"
   ]
  },
  {
   "cell_type": "markdown",
   "metadata": {},
   "source": [
    "## Submitting the Assignment\n",
    "\n",
    "Please follow these instructions to complete the assignment and submit it for credit.\n",
    "\n",
    "**Documenting collaborators, sources, and AI tools:** In accordance with the collaboration policy, use the space below to report if you used any resources to complete this homework assignment, aside from the lecture notes and the course textbooks/videos. Specifically, please report:\n",
    "\n",
    "1. Names of all classmates you worked with, and a short description of the work that you performed together.\n",
    "2. All written materials that you used, such as books or websites (besides the lecture notes or textbooks). Please include links to any web-based resources, or citations to any physical works.\n",
    "3. All code that you used from other sources. In particular, if you used an AI tool, then you must include the entire exchange with the AI tool, as per the [CDS Generative AI Assistance Policy](https://www.bu.edu/cds-faculty/culture-community/gaia-policy/).\n",
    "\n",
    "Remember that if we discover any undocumented collaborators, sources, or AI tools then this is grounds for a grade penalty and referral to BU's Academic Conduct Committee (as described in the syllabus)."
   ]
  },
  {
   "cell_type": "markdown",
   "metadata": {},
   "source": [
    "_Your response:_\n",
    "\n",
    "1. I used some assistance from ChatGPT to complete exercises Q4, particularly to create the counter block.\n",
    "\n",
    "2. N/A\n",
    "\n",
    "3. N/A"
   ]
  },
  {
   "cell_type": "markdown",
   "metadata": {},
   "source": [
    "**Sending to Gradescope:** After completing the assignment:\n",
    "- if you did the assignment on Colab, download it in `.ipynb` format.\n",
    "- if you did the assignment locally on your machine, all you need to do is to find it in your directory.\n",
    "\n",
    "Then, submit only the `.ipynb` file to this week's programming assignment on Gradescope. It may take a few seconds or a minute for the auto-grading system to check your work.\n",
    "\n",
    "Remember that you can submit as many times as you want until the deadline for the assignment; only your last score counts."
   ]
  },
  {
   "cell_type": "markdown",
   "metadata": {
    "deletable": false,
    "editable": false
   },
   "source": [
    "## Submission\n",
    "\n",
    "Make sure you have run all cells in your notebook in order before running the cell below, so that all images/graphs appear in the output. The cell below will generate a zip file for you to submit. **Please save before exporting!**\n",
    "\n",
    "Submit your assignment on Gradescope once you have passed enough tests to receive at least 4 of the 5 available points."
   ]
  },
  {
   "cell_type": "code",
   "execution_count": null,
   "metadata": {
    "deletable": false,
    "editable": false
   },
   "outputs": [],
   "source": [
    "# Save your notebook first, then run this cell to export your submission.\n",
    "grader.export(run_tests=True)"
   ]
  },
  {
   "cell_type": "markdown",
   "metadata": {},
   "source": [
    " "
   ]
  }
 ],
 "metadata": {
  "kernelspec": {
   "display_name": "Python 3 (ipykernel)",
   "language": "python",
   "name": "python3"
  },
  "language_info": {
   "codemirror_mode": {
    "name": "ipython",
    "version": 3
   },
   "file_extension": ".py",
   "mimetype": "text/x-python",
   "name": "python",
   "nbconvert_exporter": "python",
   "pygments_lexer": "ipython3",
   "version": "3.12.1"
  },
  "otter": {
   "OK_FORMAT": true,
   "tests": {
    "q1": {
     "name": "q1",
     "points": 1,
     "suites": [
      {
       "cases": [
        {
         "code": ">>> def test1_1():\n...     return q1_pad(b'TEST STRING', 16) == b'TEST STRING\\x05\\x05\\x05\\x05\\x05'\n>>> test1_1()\nTrue",
         "hidden": false,
         "locked": false
        },
        {
         "code": ">>> def test1_3():\n...     return q1_unpad(b'TEST STRING\\x05\\x05\\x05\\x05\\x05', 16) == b'TEST STRING'\n>>> test1_3()\nTrue",
         "hidden": false,
         "locked": false
        }
       ],
       "scored": true,
       "setup": "",
       "teardown": "",
       "type": "doctest"
      }
     ]
    },
    "q2": {
     "name": "q2",
     "points": 1,
     "suites": [
      {
       "cases": [
        {
         "code": ">>> def test_2_1():\n...     return q2_enc_cbc_mode(key=bytes.fromhex('a8c0eeef71c4f0ad7942cb2eefb0dff0'), message=b\"w)0EA@W`j-3O~FhxwS~OixkV$D<2'v[apPoW[\", iv=bytes.fromhex('45054c1d141b6ae136b45c37800c7840'), cipher=Sample_Cipher()) == bytes.fromhex('100ea146471f4ddc46fb829f6d9d5518229e2961bece0661d61656c2e989e157856b2cda53b8a46b308d5bba38934961')\n>>> test_2_1()\nTrue",
         "hidden": false,
         "locked": false
        }
       ],
       "scored": true,
       "setup": "",
       "teardown": "",
       "type": "doctest"
      }
     ]
    },
    "q3": {
     "name": "q3",
     "points": 1,
     "suites": [
      {
       "cases": [
        {
         "code": ">>> def test_3_1():\n...     return q3_dec_cbc_mode(key=bytes.fromhex('534641668f7d38aeaccd8d6233a22411'), ciphertext=bytes.fromhex('da5970059af60b9631836cd144323354'), iv=bytes.fromhex('8cdd421f93b855d3d27066223a3fa872'), cipher=Sample_Cipher()) == b'-P-y3'\n>>> test_3_1()\nTrue",
         "hidden": false,
         "locked": false
        }
       ],
       "scored": true,
       "setup": "",
       "teardown": "",
       "type": "doctest"
      }
     ]
    },
    "q4": {
     "name": "q4",
     "points": 1,
     "suites": [
      {
       "cases": [
        {
         "code": ">>> def test_4_1():\n...     assert q4_enc_ctr_mode(key=bytes.fromhex('4c55061b9e3d802b64897306af2389a1'), message=b'qeN', nonce=bytes.fromhex('a7314e0f243701914bf02b08'), cipher=Sample_Cipher()) == bytes.fromhex('d4731a')\n...     assert q4_enc_ctr_mode(key=bytes.fromhex('7b2937e962319e03aec2d26c8d681e06'), message=b'}9&|:WQ', nonce=bytes.fromhex('a5466611ff4369a8267ebd60'), cipher=Sample_Cipher()) == bytes.fromhex('1bb8c0d40626a7')\n...     return True\n>>> test_4_1()\nTrue",
         "hidden": false,
         "locked": false
        }
       ],
       "scored": true,
       "setup": "",
       "teardown": "",
       "type": "doctest"
      }
     ]
    },
    "q5": {
     "name": "q5",
     "points": 1,
     "suites": [
      {
       "cases": [
        {
         "code": ">>> def test_5_1():\n...     assert q5_dec_ctr_mode(key=bytes.fromhex('4c55061b9e3d802b64897306af2389a1'), ciphertext=bytes.fromhex('d4731a'), nonce=bytes.fromhex('a7314e0f243701914bf02b08'), cipher=Sample_Cipher()) == b'qeN'\n...     assert q5_dec_ctr_mode(key=bytes.fromhex('7b2937e962319e03aec2d26c8d681e06'), ciphertext=bytes.fromhex('1bb8c0d40626a7'), nonce=bytes.fromhex('a5466611ff4369a8267ebd60'), cipher=Sample_Cipher()) == b'}9&|:WQ'\n...     return True\n>>> test_5_1()\nTrue",
         "hidden": false,
         "locked": false
        }
       ],
       "scored": true,
       "setup": "",
       "teardown": "",
       "type": "doctest"
      }
     ]
    }
   }
  }
 },
 "nbformat": 4,
 "nbformat_minor": 4
}
